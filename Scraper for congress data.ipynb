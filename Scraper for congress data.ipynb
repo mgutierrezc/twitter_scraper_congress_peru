{
 "cells": [
  {
   "cell_type": "markdown",
   "metadata": {},
   "source": [
    "**Programmer:** Marco Gutierrez"
   ]
  },
  {
   "cell_type": "markdown",
   "metadata": {},
   "source": [
    "**Note:** Don't run the whole code in once. Twitter imposes a constrain of 300 requests approx. per 15 mins, so take that into account when running this script"
   ]
  },
  {
   "cell_type": "markdown",
   "metadata": {},
   "source": [
    "# Importing packages"
   ]
  },
  {
   "cell_type": "code",
   "execution_count": 3,
   "metadata": {},
   "outputs": [],
   "source": [
    "import pandas as pd\n",
    "import twitter\n",
    "from selenium import webdriver\n",
    "import nltk\n",
    "import os\n",
    "from selenium.webdriver.common.keys import Keys\n",
    "from selenium.webdriver.common.by import By\n",
    "from selenium.webdriver.support.ui import WebDriverWait\n",
    "from selenium.webdriver.support import expected_conditions as EC\n",
    "from selenium.common.exceptions import NoSuchElementException, TimeoutException"
   ]
  },
  {
   "cell_type": "code",
   "execution_count": 2,
   "metadata": {},
   "outputs": [],
   "source": [
    "# importing our congress dataframe\n",
    "congress_base = pd.read_excel(\"datos_congress.xlsx\")"
   ]
  },
  {
   "cell_type": "code",
   "execution_count": 3,
   "metadata": {},
   "outputs": [
    {
     "data": {
      "text/html": [
       "<div>\n",
       "<style scoped>\n",
       "    .dataframe tbody tr th:only-of-type {\n",
       "        vertical-align: middle;\n",
       "    }\n",
       "\n",
       "    .dataframe tbody tr th {\n",
       "        vertical-align: top;\n",
       "    }\n",
       "\n",
       "    .dataframe thead th {\n",
       "        text-align: right;\n",
       "    }\n",
       "</style>\n",
       "<table border=\"1\" class=\"dataframe\">\n",
       "  <thead>\n",
       "    <tr style=\"text-align: right;\">\n",
       "      <th></th>\n",
       "      <th>APELLIDOS Y NOMBRES</th>\n",
       "      <th>GRUPO PARLAMENTARIO</th>\n",
       "      <th>E-MAIL</th>\n",
       "    </tr>\n",
       "  </thead>\n",
       "  <tbody>\n",
       "    <tr>\n",
       "      <th>0</th>\n",
       "      <td>Acate Coronel Eduardo Geovanni</td>\n",
       "      <td>ALIANZA PARA EL PROGRESO</td>\n",
       "      <td>eacate@congreso.gob.pe</td>\n",
       "    </tr>\n",
       "    <tr>\n",
       "      <th>1</th>\n",
       "      <td>Acuña Peralta Humberto</td>\n",
       "      <td>ALIANZA PARA EL PROGRESO</td>\n",
       "      <td>hacuna@congreso.gob.pe</td>\n",
       "    </tr>\n",
       "    <tr>\n",
       "      <th>2</th>\n",
       "      <td>Aguilar Zamora Manuel</td>\n",
       "      <td>ACCION POPULAR</td>\n",
       "      <td>maguilarz@congreso.gob.pe</td>\n",
       "    </tr>\n",
       "    <tr>\n",
       "      <th>3</th>\n",
       "      <td>Alarcón Tejada Edgar Arnold</td>\n",
       "      <td>UNIÓN POR EL PERÚ</td>\n",
       "      <td>ealarcont@congreso.gob.pe</td>\n",
       "    </tr>\n",
       "    <tr>\n",
       "      <th>4</th>\n",
       "      <td>Alencastre Miranda Hirma Norma</td>\n",
       "      <td>SOMOS PERÚ</td>\n",
       "      <td>halencastre@congreso.gob.pe</td>\n",
       "    </tr>\n",
       "    <tr>\n",
       "      <th>5</th>\n",
       "      <td>Aliaga Pajares Guillermo Alejandro Antonio</td>\n",
       "      <td>SOMOS PERÚ</td>\n",
       "      <td>galiaga@congreso.gob.pe</td>\n",
       "    </tr>\n",
       "  </tbody>\n",
       "</table>\n",
       "</div>"
      ],
      "text/plain": [
       "                          APELLIDOS Y NOMBRES       GRUPO PARLAMENTARIO  \\\n",
       "0              Acate Coronel Eduardo Geovanni  ALIANZA PARA EL PROGRESO   \n",
       "1                      Acuña Peralta Humberto  ALIANZA PARA EL PROGRESO   \n",
       "2                       Aguilar Zamora Manuel            ACCION POPULAR   \n",
       "3                 Alarcón Tejada Edgar Arnold         UNIÓN POR EL PERÚ   \n",
       "4              Alencastre Miranda Hirma Norma                SOMOS PERÚ   \n",
       "5  Aliaga Pajares Guillermo Alejandro Antonio                SOMOS PERÚ   \n",
       "\n",
       "                        E-MAIL  \n",
       "0       eacate@congreso.gob.pe  \n",
       "1       hacuna@congreso.gob.pe  \n",
       "2    maguilarz@congreso.gob.pe  \n",
       "3    ealarcont@congreso.gob.pe  \n",
       "4  halencastre@congreso.gob.pe  \n",
       "5      galiaga@congreso.gob.pe  "
      ]
     },
     "execution_count": 3,
     "metadata": {},
     "output_type": "execute_result"
    }
   ],
   "source": [
    "congress_base.iloc[:6]"
   ]
  },
  {
   "cell_type": "markdown",
   "metadata": {},
   "source": [
    "## Getting first names"
   ]
  },
  {
   "cell_type": "code",
   "execution_count": 50,
   "metadata": {},
   "outputs": [],
   "source": [
    "def get_first_names(row):\n",
    "    \"\"\"Function to get first names\n",
    "    \n",
    "    Input: row string value with full name\n",
    "    Output: first name\n",
    "    \"\"\"\n",
    "    splitted_names = row.split(\" \")\n",
    "    length = len(splitted_names)\n",
    "\n",
    "    if length>=5:\n",
    "        first_names = splitted_names[-1] + \" \" + splitted_names[-2] + \" \" + splitted_names[-3]\n",
    "    \n",
    "    elif length==4:\n",
    "        first_names = splitted_names[-1] + \" \" + splitted_names[-2]\n",
    "        \n",
    "    elif length==3 or length==2:\n",
    "        first_names = splitted_names[-1]\n",
    "            \n",
    "    return first_names"
   ]
  },
  {
   "cell_type": "code",
   "execution_count": 51,
   "metadata": {},
   "outputs": [],
   "source": [
    "congress_base[\"Nombres\"] = congress_base[\"APELLIDOS Y NOMBRES\"].apply(lambda row: get_first_names(row))"
   ]
  },
  {
   "cell_type": "code",
   "execution_count": 6,
   "metadata": {},
   "outputs": [],
   "source": [
    "congress_base[\"Primer Nombre\"] = congress_base[\"APELLIDOS Y NOMBRES\"].apply(lambda row: get_first_names(row).split(\" \")[0])"
   ]
  },
  {
   "cell_type": "code",
   "execution_count": 58,
   "metadata": {},
   "outputs": [],
   "source": [
    "def get_second_name(row):\n",
    "    if len(row.split(\" \"))>1:\n",
    "        return row.split(\" \")[1]\n",
    "    else:\n",
    "        return \"No encontrado\""
   ]
  },
  {
   "cell_type": "code",
   "execution_count": 59,
   "metadata": {},
   "outputs": [],
   "source": [
    "congress_base[\"Segundo Nombre\"] = congress_base[\"Nombres\"].apply(lambda row: get_second_name(row))"
   ]
  },
  {
   "cell_type": "code",
   "execution_count": 60,
   "metadata": {
    "scrolled": true
   },
   "outputs": [
    {
     "data": {
      "text/html": [
       "<div>\n",
       "<style scoped>\n",
       "    .dataframe tbody tr th:only-of-type {\n",
       "        vertical-align: middle;\n",
       "    }\n",
       "\n",
       "    .dataframe tbody tr th {\n",
       "        vertical-align: top;\n",
       "    }\n",
       "\n",
       "    .dataframe thead th {\n",
       "        text-align: right;\n",
       "    }\n",
       "</style>\n",
       "<table border=\"1\" class=\"dataframe\">\n",
       "  <thead>\n",
       "    <tr style=\"text-align: right;\">\n",
       "      <th></th>\n",
       "      <th>APELLIDOS Y NOMBRES</th>\n",
       "      <th>GRUPO PARLAMENTARIO</th>\n",
       "      <th>E-MAIL</th>\n",
       "      <th>Nombres</th>\n",
       "      <th>Primer Nombre</th>\n",
       "      <th>Apellidos</th>\n",
       "      <th>Primer Apellido</th>\n",
       "      <th>Nombre Completo</th>\n",
       "      <th>Nombre Completo (F)</th>\n",
       "      <th>Nombre Completo (FFL)</th>\n",
       "      <th>Usuario de Twitter (1st FullN)</th>\n",
       "      <th>Usuario de Twitter (1st FirstN)</th>\n",
       "      <th>Usuario de Twitter (1st FirstN FullL)</th>\n",
       "      <th>description (1st FullN)</th>\n",
       "      <th>Segundo Nombre</th>\n",
       "    </tr>\n",
       "  </thead>\n",
       "  <tbody>\n",
       "    <tr>\n",
       "      <th>0</th>\n",
       "      <td>Acate Coronel Eduardo Geovanni</td>\n",
       "      <td>ALIANZA PARA EL PROGRESO</td>\n",
       "      <td>eacate@congreso.gob.pe</td>\n",
       "      <td>Geovanni Eduardo</td>\n",
       "      <td>Geovanni</td>\n",
       "      <td>Acate Coronel</td>\n",
       "      <td>Acate</td>\n",
       "      <td>Geovanni Eduardo Acate Coronel</td>\n",
       "      <td>Geovanni Acate</td>\n",
       "      <td>Geovanni Acate Coronel</td>\n",
       "      <td>No encontrado</td>\n",
       "      <td>geovanniacate</td>\n",
       "      <td>No encontrado</td>\n",
       "      <td>Not found</td>\n",
       "      <td>Eduardo</td>\n",
       "    </tr>\n",
       "    <tr>\n",
       "      <th>1</th>\n",
       "      <td>Acuña Peralta Humberto</td>\n",
       "      <td>ALIANZA PARA EL PROGRESO</td>\n",
       "      <td>hacuna@congreso.gob.pe</td>\n",
       "      <td>Humberto</td>\n",
       "      <td>Humberto</td>\n",
       "      <td>Acuña Peralta</td>\n",
       "      <td>Acuña</td>\n",
       "      <td>Humberto Acuña Peralta</td>\n",
       "      <td>Humberto Acuña</td>\n",
       "      <td>Humberto Acuña Peralta</td>\n",
       "      <td>HumbertoAcunaP</td>\n",
       "      <td>HumbertoAcunaP</td>\n",
       "      <td>HumbertoAcunaP</td>\n",
       "      <td>Congresista de la República por @Peru_APP\\nExg...</td>\n",
       "      <td>No encontrado</td>\n",
       "    </tr>\n",
       "    <tr>\n",
       "      <th>2</th>\n",
       "      <td>Aguilar Zamora Manuel</td>\n",
       "      <td>ACCION POPULAR</td>\n",
       "      <td>maguilarz@congreso.gob.pe</td>\n",
       "      <td>Manuel</td>\n",
       "      <td>Manuel</td>\n",
       "      <td>Aguilar Zamora</td>\n",
       "      <td>Aguilar</td>\n",
       "      <td>Manuel Aguilar Zamora</td>\n",
       "      <td>Manuel Aguilar</td>\n",
       "      <td>Manuel Aguilar Zamora</td>\n",
       "      <td>JosManu41917702</td>\n",
       "      <td>Manuelsv</td>\n",
       "      <td>JosManu41917702</td>\n",
       "      <td></td>\n",
       "      <td>No encontrado</td>\n",
       "    </tr>\n",
       "    <tr>\n",
       "      <th>3</th>\n",
       "      <td>Alarcón Tejada Edgar Arnold</td>\n",
       "      <td>UNIÓN POR EL PERÚ</td>\n",
       "      <td>ealarcont@congreso.gob.pe</td>\n",
       "      <td>Arnold Edgar</td>\n",
       "      <td>Arnold</td>\n",
       "      <td>Alarcón Tejada</td>\n",
       "      <td>Alarcón</td>\n",
       "      <td>Arnold Edgar Alarcón Tejada</td>\n",
       "      <td>Arnold Alarcón</td>\n",
       "      <td>Arnold Alarcón Tejada</td>\n",
       "      <td>No encontrado</td>\n",
       "      <td>LobitoDenis</td>\n",
       "      <td>No encontrado</td>\n",
       "      <td>Not found</td>\n",
       "      <td>Edgar</td>\n",
       "    </tr>\n",
       "    <tr>\n",
       "      <th>4</th>\n",
       "      <td>Alencastre Miranda Hirma Norma</td>\n",
       "      <td>SOMOS PERÚ</td>\n",
       "      <td>halencastre@congreso.gob.pe</td>\n",
       "      <td>Norma Hirma</td>\n",
       "      <td>Norma</td>\n",
       "      <td>Alencastre Miranda</td>\n",
       "      <td>Alencastre</td>\n",
       "      <td>Norma Hirma Alencastre Miranda</td>\n",
       "      <td>Norma Alencastre</td>\n",
       "      <td>Norma Alencastre Miranda</td>\n",
       "      <td>No encontrado</td>\n",
       "      <td>NormaAlencastre</td>\n",
       "      <td>No encontrado</td>\n",
       "      <td>Not found</td>\n",
       "      <td>Hirma</td>\n",
       "    </tr>\n",
       "  </tbody>\n",
       "</table>\n",
       "</div>"
      ],
      "text/plain": [
       "              APELLIDOS Y NOMBRES       GRUPO PARLAMENTARIO  \\\n",
       "0  Acate Coronel Eduardo Geovanni  ALIANZA PARA EL PROGRESO   \n",
       "1          Acuña Peralta Humberto  ALIANZA PARA EL PROGRESO   \n",
       "2           Aguilar Zamora Manuel            ACCION POPULAR   \n",
       "3     Alarcón Tejada Edgar Arnold         UNIÓN POR EL PERÚ   \n",
       "4  Alencastre Miranda Hirma Norma                SOMOS PERÚ   \n",
       "\n",
       "                        E-MAIL           Nombres Primer Nombre  \\\n",
       "0       eacate@congreso.gob.pe  Geovanni Eduardo      Geovanni   \n",
       "1       hacuna@congreso.gob.pe          Humberto      Humberto   \n",
       "2    maguilarz@congreso.gob.pe            Manuel        Manuel   \n",
       "3    ealarcont@congreso.gob.pe      Arnold Edgar        Arnold   \n",
       "4  halencastre@congreso.gob.pe       Norma Hirma         Norma   \n",
       "\n",
       "            Apellidos Primer Apellido                 Nombre Completo  \\\n",
       "0       Acate Coronel           Acate  Geovanni Eduardo Acate Coronel   \n",
       "1       Acuña Peralta           Acuña          Humberto Acuña Peralta   \n",
       "2      Aguilar Zamora         Aguilar           Manuel Aguilar Zamora   \n",
       "3      Alarcón Tejada         Alarcón     Arnold Edgar Alarcón Tejada   \n",
       "4  Alencastre Miranda      Alencastre  Norma Hirma Alencastre Miranda   \n",
       "\n",
       "  Nombre Completo (F)     Nombre Completo (FFL)  \\\n",
       "0      Geovanni Acate    Geovanni Acate Coronel   \n",
       "1      Humberto Acuña    Humberto Acuña Peralta   \n",
       "2      Manuel Aguilar     Manuel Aguilar Zamora   \n",
       "3      Arnold Alarcón     Arnold Alarcón Tejada   \n",
       "4    Norma Alencastre  Norma Alencastre Miranda   \n",
       "\n",
       "  Usuario de Twitter (1st FullN) Usuario de Twitter (1st FirstN)  \\\n",
       "0                  No encontrado                   geovanniacate   \n",
       "1                 HumbertoAcunaP                  HumbertoAcunaP   \n",
       "2                JosManu41917702                        Manuelsv   \n",
       "3                  No encontrado                     LobitoDenis   \n",
       "4                  No encontrado                 NormaAlencastre   \n",
       "\n",
       "  Usuario de Twitter (1st FirstN FullL)  \\\n",
       "0                         No encontrado   \n",
       "1                        HumbertoAcunaP   \n",
       "2                       JosManu41917702   \n",
       "3                         No encontrado   \n",
       "4                         No encontrado   \n",
       "\n",
       "                             description (1st FullN) Segundo Nombre  \n",
       "0                                          Not found        Eduardo  \n",
       "1  Congresista de la República por @Peru_APP\\nExg...  No encontrado  \n",
       "2                                                     No encontrado  \n",
       "3                                          Not found          Edgar  \n",
       "4                                          Not found          Hirma  "
      ]
     },
     "execution_count": 60,
     "metadata": {},
     "output_type": "execute_result"
    }
   ],
   "source": [
    "congress_base.head()"
   ]
  },
  {
   "cell_type": "markdown",
   "metadata": {},
   "source": [
    "## Getting last names"
   ]
  },
  {
   "cell_type": "code",
   "execution_count": 8,
   "metadata": {},
   "outputs": [],
   "source": [
    "def get_last_names(row):\n",
    "    \"\"\"Function to get last names\n",
    "    \n",
    "    Input: row string value with full name\n",
    "    Output: last name\n",
    "    \"\"\"\n",
    "    splitted_names = row.split(\" \")\n",
    "    length = len(splitted_names)\n",
    "\n",
    "    if length<=4:\n",
    "        last_names = splitted_names[0] + \" \" + splitted_names[1]\n",
    "    elif length>=5:\n",
    "        last_names = splitted_names[0] + \" \" + splitted_names[1] + \" \" + splitted_names[2] \n",
    "    \n",
    "    return last_names"
   ]
  },
  {
   "cell_type": "code",
   "execution_count": 9,
   "metadata": {},
   "outputs": [],
   "source": [
    "congress_base[\"Apellidos\"] = congress_base[\"APELLIDOS Y NOMBRES\"].apply(lambda row: get_last_names(row))"
   ]
  },
  {
   "cell_type": "markdown",
   "metadata": {},
   "source": [
    "### Getting first last name"
   ]
  },
  {
   "cell_type": "code",
   "execution_count": 10,
   "metadata": {},
   "outputs": [],
   "source": [
    "def get_first_last_name(row):\n",
    "    \"\"\"Function to get last names\n",
    "    \n",
    "    Input: row string value with last name\n",
    "    Output: first last name\"\"\"\n",
    "    \n",
    "    splitted_last_names = row.split(\" \")\n",
    "    length = len(splitted_last_names)\n",
    "\n",
    "    if length==2:\n",
    "        first_last_name = splitted_last_names[0]\n",
    "    elif length==3:\n",
    "        first_last_name = splitted_last_names[0] + \" \" + splitted_last_names[1]\n",
    "    \n",
    "    return first_last_name"
   ]
  },
  {
   "cell_type": "code",
   "execution_count": 11,
   "metadata": {},
   "outputs": [],
   "source": [
    "congress_base[\"Primer Apellido\"] = congress_base[\"Apellidos\"].apply(lambda row: get_first_last_name(row))"
   ]
  },
  {
   "cell_type": "code",
   "execution_count": 12,
   "metadata": {},
   "outputs": [
    {
     "data": {
      "text/html": [
       "<div>\n",
       "<style scoped>\n",
       "    .dataframe tbody tr th:only-of-type {\n",
       "        vertical-align: middle;\n",
       "    }\n",
       "\n",
       "    .dataframe tbody tr th {\n",
       "        vertical-align: top;\n",
       "    }\n",
       "\n",
       "    .dataframe thead th {\n",
       "        text-align: right;\n",
       "    }\n",
       "</style>\n",
       "<table border=\"1\" class=\"dataframe\">\n",
       "  <thead>\n",
       "    <tr style=\"text-align: right;\">\n",
       "      <th></th>\n",
       "      <th>APELLIDOS Y NOMBRES</th>\n",
       "      <th>GRUPO PARLAMENTARIO</th>\n",
       "      <th>E-MAIL</th>\n",
       "      <th>Nombres</th>\n",
       "      <th>Primer Nombre</th>\n",
       "      <th>Apellidos</th>\n",
       "      <th>Primer Apellido</th>\n",
       "    </tr>\n",
       "  </thead>\n",
       "  <tbody>\n",
       "    <tr>\n",
       "      <th>0</th>\n",
       "      <td>Acate Coronel Eduardo Geovanni</td>\n",
       "      <td>ALIANZA PARA EL PROGRESO</td>\n",
       "      <td>eacate@congreso.gob.pe</td>\n",
       "      <td>Geovanni Eduardo</td>\n",
       "      <td>Geovanni</td>\n",
       "      <td>Acate Coronel</td>\n",
       "      <td>Acate</td>\n",
       "    </tr>\n",
       "    <tr>\n",
       "      <th>1</th>\n",
       "      <td>Acuña Peralta Humberto</td>\n",
       "      <td>ALIANZA PARA EL PROGRESO</td>\n",
       "      <td>hacuna@congreso.gob.pe</td>\n",
       "      <td>Humberto</td>\n",
       "      <td>Humberto</td>\n",
       "      <td>Acuña Peralta</td>\n",
       "      <td>Acuña</td>\n",
       "    </tr>\n",
       "    <tr>\n",
       "      <th>2</th>\n",
       "      <td>Aguilar Zamora Manuel</td>\n",
       "      <td>ACCION POPULAR</td>\n",
       "      <td>maguilarz@congreso.gob.pe</td>\n",
       "      <td>Manuel</td>\n",
       "      <td>Manuel</td>\n",
       "      <td>Aguilar Zamora</td>\n",
       "      <td>Aguilar</td>\n",
       "    </tr>\n",
       "    <tr>\n",
       "      <th>3</th>\n",
       "      <td>Alarcón Tejada Edgar Arnold</td>\n",
       "      <td>UNIÓN POR EL PERÚ</td>\n",
       "      <td>ealarcont@congreso.gob.pe</td>\n",
       "      <td>Arnold Edgar</td>\n",
       "      <td>Arnold</td>\n",
       "      <td>Alarcón Tejada</td>\n",
       "      <td>Alarcón</td>\n",
       "    </tr>\n",
       "    <tr>\n",
       "      <th>4</th>\n",
       "      <td>Alencastre Miranda Hirma Norma</td>\n",
       "      <td>SOMOS PERÚ</td>\n",
       "      <td>halencastre@congreso.gob.pe</td>\n",
       "      <td>Norma Hirma</td>\n",
       "      <td>Norma</td>\n",
       "      <td>Alencastre Miranda</td>\n",
       "      <td>Alencastre</td>\n",
       "    </tr>\n",
       "  </tbody>\n",
       "</table>\n",
       "</div>"
      ],
      "text/plain": [
       "              APELLIDOS Y NOMBRES       GRUPO PARLAMENTARIO  \\\n",
       "0  Acate Coronel Eduardo Geovanni  ALIANZA PARA EL PROGRESO   \n",
       "1          Acuña Peralta Humberto  ALIANZA PARA EL PROGRESO   \n",
       "2           Aguilar Zamora Manuel            ACCION POPULAR   \n",
       "3     Alarcón Tejada Edgar Arnold         UNIÓN POR EL PERÚ   \n",
       "4  Alencastre Miranda Hirma Norma                SOMOS PERÚ   \n",
       "\n",
       "                        E-MAIL           Nombres Primer Nombre  \\\n",
       "0       eacate@congreso.gob.pe  Geovanni Eduardo      Geovanni   \n",
       "1       hacuna@congreso.gob.pe          Humberto      Humberto   \n",
       "2    maguilarz@congreso.gob.pe            Manuel        Manuel   \n",
       "3    ealarcont@congreso.gob.pe      Arnold Edgar        Arnold   \n",
       "4  halencastre@congreso.gob.pe       Norma Hirma         Norma   \n",
       "\n",
       "            Apellidos Primer Apellido  \n",
       "0       Acate Coronel           Acate  \n",
       "1       Acuña Peralta           Acuña  \n",
       "2      Aguilar Zamora         Aguilar  \n",
       "3      Alarcón Tejada         Alarcón  \n",
       "4  Alencastre Miranda      Alencastre  "
      ]
     },
     "execution_count": 12,
     "metadata": {},
     "output_type": "execute_result"
    }
   ],
   "source": [
    "congress_base.head()"
   ]
  },
  {
   "cell_type": "markdown",
   "metadata": {},
   "source": [
    "## Creating Full Name Ordered"
   ]
  },
  {
   "cell_type": "code",
   "execution_count": 13,
   "metadata": {},
   "outputs": [],
   "source": [
    "congress_base[\"Nombre Completo\"] = congress_base[\"Nombres\"] + \" \" + congress_base[\"Apellidos\"]"
   ]
  },
  {
   "cell_type": "code",
   "execution_count": 14,
   "metadata": {},
   "outputs": [
    {
     "data": {
      "text/html": [
       "<div>\n",
       "<style scoped>\n",
       "    .dataframe tbody tr th:only-of-type {\n",
       "        vertical-align: middle;\n",
       "    }\n",
       "\n",
       "    .dataframe tbody tr th {\n",
       "        vertical-align: top;\n",
       "    }\n",
       "\n",
       "    .dataframe thead th {\n",
       "        text-align: right;\n",
       "    }\n",
       "</style>\n",
       "<table border=\"1\" class=\"dataframe\">\n",
       "  <thead>\n",
       "    <tr style=\"text-align: right;\">\n",
       "      <th></th>\n",
       "      <th>APELLIDOS Y NOMBRES</th>\n",
       "      <th>GRUPO PARLAMENTARIO</th>\n",
       "      <th>E-MAIL</th>\n",
       "      <th>Nombres</th>\n",
       "      <th>Primer Nombre</th>\n",
       "      <th>Apellidos</th>\n",
       "      <th>Primer Apellido</th>\n",
       "      <th>Nombre Completo</th>\n",
       "    </tr>\n",
       "  </thead>\n",
       "  <tbody>\n",
       "    <tr>\n",
       "      <th>0</th>\n",
       "      <td>Acate Coronel Eduardo Geovanni</td>\n",
       "      <td>ALIANZA PARA EL PROGRESO</td>\n",
       "      <td>eacate@congreso.gob.pe</td>\n",
       "      <td>Geovanni Eduardo</td>\n",
       "      <td>Geovanni</td>\n",
       "      <td>Acate Coronel</td>\n",
       "      <td>Acate</td>\n",
       "      <td>Geovanni Eduardo Acate Coronel</td>\n",
       "    </tr>\n",
       "    <tr>\n",
       "      <th>1</th>\n",
       "      <td>Acuña Peralta Humberto</td>\n",
       "      <td>ALIANZA PARA EL PROGRESO</td>\n",
       "      <td>hacuna@congreso.gob.pe</td>\n",
       "      <td>Humberto</td>\n",
       "      <td>Humberto</td>\n",
       "      <td>Acuña Peralta</td>\n",
       "      <td>Acuña</td>\n",
       "      <td>Humberto Acuña Peralta</td>\n",
       "    </tr>\n",
       "    <tr>\n",
       "      <th>2</th>\n",
       "      <td>Aguilar Zamora Manuel</td>\n",
       "      <td>ACCION POPULAR</td>\n",
       "      <td>maguilarz@congreso.gob.pe</td>\n",
       "      <td>Manuel</td>\n",
       "      <td>Manuel</td>\n",
       "      <td>Aguilar Zamora</td>\n",
       "      <td>Aguilar</td>\n",
       "      <td>Manuel Aguilar Zamora</td>\n",
       "    </tr>\n",
       "    <tr>\n",
       "      <th>3</th>\n",
       "      <td>Alarcón Tejada Edgar Arnold</td>\n",
       "      <td>UNIÓN POR EL PERÚ</td>\n",
       "      <td>ealarcont@congreso.gob.pe</td>\n",
       "      <td>Arnold Edgar</td>\n",
       "      <td>Arnold</td>\n",
       "      <td>Alarcón Tejada</td>\n",
       "      <td>Alarcón</td>\n",
       "      <td>Arnold Edgar Alarcón Tejada</td>\n",
       "    </tr>\n",
       "    <tr>\n",
       "      <th>4</th>\n",
       "      <td>Alencastre Miranda Hirma Norma</td>\n",
       "      <td>SOMOS PERÚ</td>\n",
       "      <td>halencastre@congreso.gob.pe</td>\n",
       "      <td>Norma Hirma</td>\n",
       "      <td>Norma</td>\n",
       "      <td>Alencastre Miranda</td>\n",
       "      <td>Alencastre</td>\n",
       "      <td>Norma Hirma Alencastre Miranda</td>\n",
       "    </tr>\n",
       "  </tbody>\n",
       "</table>\n",
       "</div>"
      ],
      "text/plain": [
       "              APELLIDOS Y NOMBRES       GRUPO PARLAMENTARIO  \\\n",
       "0  Acate Coronel Eduardo Geovanni  ALIANZA PARA EL PROGRESO   \n",
       "1          Acuña Peralta Humberto  ALIANZA PARA EL PROGRESO   \n",
       "2           Aguilar Zamora Manuel            ACCION POPULAR   \n",
       "3     Alarcón Tejada Edgar Arnold         UNIÓN POR EL PERÚ   \n",
       "4  Alencastre Miranda Hirma Norma                SOMOS PERÚ   \n",
       "\n",
       "                        E-MAIL           Nombres Primer Nombre  \\\n",
       "0       eacate@congreso.gob.pe  Geovanni Eduardo      Geovanni   \n",
       "1       hacuna@congreso.gob.pe          Humberto      Humberto   \n",
       "2    maguilarz@congreso.gob.pe            Manuel        Manuel   \n",
       "3    ealarcont@congreso.gob.pe      Arnold Edgar        Arnold   \n",
       "4  halencastre@congreso.gob.pe       Norma Hirma         Norma   \n",
       "\n",
       "            Apellidos Primer Apellido                 Nombre Completo  \n",
       "0       Acate Coronel           Acate  Geovanni Eduardo Acate Coronel  \n",
       "1       Acuña Peralta           Acuña          Humberto Acuña Peralta  \n",
       "2      Aguilar Zamora         Aguilar           Manuel Aguilar Zamora  \n",
       "3      Alarcón Tejada         Alarcón     Arnold Edgar Alarcón Tejada  \n",
       "4  Alencastre Miranda      Alencastre  Norma Hirma Alencastre Miranda  "
      ]
     },
     "execution_count": 14,
     "metadata": {},
     "output_type": "execute_result"
    }
   ],
   "source": [
    "congress_base.head()"
   ]
  },
  {
   "cell_type": "markdown",
   "metadata": {},
   "source": [
    "## Creating Full Name (Only firsts F and L Names)"
   ]
  },
  {
   "cell_type": "code",
   "execution_count": 15,
   "metadata": {},
   "outputs": [],
   "source": [
    "congress_base[\"Nombre Completo (F)\"] = congress_base[\"Primer Nombre\"] + \" \" + congress_base[\"Primer Apellido\"]"
   ]
  },
  {
   "cell_type": "code",
   "execution_count": 16,
   "metadata": {
    "scrolled": true
   },
   "outputs": [
    {
     "data": {
      "text/html": [
       "<div>\n",
       "<style scoped>\n",
       "    .dataframe tbody tr th:only-of-type {\n",
       "        vertical-align: middle;\n",
       "    }\n",
       "\n",
       "    .dataframe tbody tr th {\n",
       "        vertical-align: top;\n",
       "    }\n",
       "\n",
       "    .dataframe thead th {\n",
       "        text-align: right;\n",
       "    }\n",
       "</style>\n",
       "<table border=\"1\" class=\"dataframe\">\n",
       "  <thead>\n",
       "    <tr style=\"text-align: right;\">\n",
       "      <th></th>\n",
       "      <th>APELLIDOS Y NOMBRES</th>\n",
       "      <th>GRUPO PARLAMENTARIO</th>\n",
       "      <th>E-MAIL</th>\n",
       "      <th>Nombres</th>\n",
       "      <th>Primer Nombre</th>\n",
       "      <th>Apellidos</th>\n",
       "      <th>Primer Apellido</th>\n",
       "      <th>Nombre Completo</th>\n",
       "      <th>Nombre Completo (F)</th>\n",
       "    </tr>\n",
       "  </thead>\n",
       "  <tbody>\n",
       "    <tr>\n",
       "      <th>0</th>\n",
       "      <td>Acate Coronel Eduardo Geovanni</td>\n",
       "      <td>ALIANZA PARA EL PROGRESO</td>\n",
       "      <td>eacate@congreso.gob.pe</td>\n",
       "      <td>Geovanni Eduardo</td>\n",
       "      <td>Geovanni</td>\n",
       "      <td>Acate Coronel</td>\n",
       "      <td>Acate</td>\n",
       "      <td>Geovanni Eduardo Acate Coronel</td>\n",
       "      <td>Geovanni Acate</td>\n",
       "    </tr>\n",
       "    <tr>\n",
       "      <th>1</th>\n",
       "      <td>Acuña Peralta Humberto</td>\n",
       "      <td>ALIANZA PARA EL PROGRESO</td>\n",
       "      <td>hacuna@congreso.gob.pe</td>\n",
       "      <td>Humberto</td>\n",
       "      <td>Humberto</td>\n",
       "      <td>Acuña Peralta</td>\n",
       "      <td>Acuña</td>\n",
       "      <td>Humberto Acuña Peralta</td>\n",
       "      <td>Humberto Acuña</td>\n",
       "    </tr>\n",
       "    <tr>\n",
       "      <th>2</th>\n",
       "      <td>Aguilar Zamora Manuel</td>\n",
       "      <td>ACCION POPULAR</td>\n",
       "      <td>maguilarz@congreso.gob.pe</td>\n",
       "      <td>Manuel</td>\n",
       "      <td>Manuel</td>\n",
       "      <td>Aguilar Zamora</td>\n",
       "      <td>Aguilar</td>\n",
       "      <td>Manuel Aguilar Zamora</td>\n",
       "      <td>Manuel Aguilar</td>\n",
       "    </tr>\n",
       "    <tr>\n",
       "      <th>3</th>\n",
       "      <td>Alarcón Tejada Edgar Arnold</td>\n",
       "      <td>UNIÓN POR EL PERÚ</td>\n",
       "      <td>ealarcont@congreso.gob.pe</td>\n",
       "      <td>Arnold Edgar</td>\n",
       "      <td>Arnold</td>\n",
       "      <td>Alarcón Tejada</td>\n",
       "      <td>Alarcón</td>\n",
       "      <td>Arnold Edgar Alarcón Tejada</td>\n",
       "      <td>Arnold Alarcón</td>\n",
       "    </tr>\n",
       "    <tr>\n",
       "      <th>4</th>\n",
       "      <td>Alencastre Miranda Hirma Norma</td>\n",
       "      <td>SOMOS PERÚ</td>\n",
       "      <td>halencastre@congreso.gob.pe</td>\n",
       "      <td>Norma Hirma</td>\n",
       "      <td>Norma</td>\n",
       "      <td>Alencastre Miranda</td>\n",
       "      <td>Alencastre</td>\n",
       "      <td>Norma Hirma Alencastre Miranda</td>\n",
       "      <td>Norma Alencastre</td>\n",
       "    </tr>\n",
       "  </tbody>\n",
       "</table>\n",
       "</div>"
      ],
      "text/plain": [
       "              APELLIDOS Y NOMBRES       GRUPO PARLAMENTARIO  \\\n",
       "0  Acate Coronel Eduardo Geovanni  ALIANZA PARA EL PROGRESO   \n",
       "1          Acuña Peralta Humberto  ALIANZA PARA EL PROGRESO   \n",
       "2           Aguilar Zamora Manuel            ACCION POPULAR   \n",
       "3     Alarcón Tejada Edgar Arnold         UNIÓN POR EL PERÚ   \n",
       "4  Alencastre Miranda Hirma Norma                SOMOS PERÚ   \n",
       "\n",
       "                        E-MAIL           Nombres Primer Nombre  \\\n",
       "0       eacate@congreso.gob.pe  Geovanni Eduardo      Geovanni   \n",
       "1       hacuna@congreso.gob.pe          Humberto      Humberto   \n",
       "2    maguilarz@congreso.gob.pe            Manuel        Manuel   \n",
       "3    ealarcont@congreso.gob.pe      Arnold Edgar        Arnold   \n",
       "4  halencastre@congreso.gob.pe       Norma Hirma         Norma   \n",
       "\n",
       "            Apellidos Primer Apellido                 Nombre Completo  \\\n",
       "0       Acate Coronel           Acate  Geovanni Eduardo Acate Coronel   \n",
       "1       Acuña Peralta           Acuña          Humberto Acuña Peralta   \n",
       "2      Aguilar Zamora         Aguilar           Manuel Aguilar Zamora   \n",
       "3      Alarcón Tejada         Alarcón     Arnold Edgar Alarcón Tejada   \n",
       "4  Alencastre Miranda      Alencastre  Norma Hirma Alencastre Miranda   \n",
       "\n",
       "  Nombre Completo (F)  \n",
       "0      Geovanni Acate  \n",
       "1      Humberto Acuña  \n",
       "2      Manuel Aguilar  \n",
       "3      Arnold Alarcón  \n",
       "4    Norma Alencastre  "
      ]
     },
     "execution_count": 16,
     "metadata": {},
     "output_type": "execute_result"
    }
   ],
   "source": [
    "congress_base.head()"
   ]
  },
  {
   "cell_type": "markdown",
   "metadata": {},
   "source": [
    "## Creating Full Name (First F and Full L Names)"
   ]
  },
  {
   "cell_type": "code",
   "execution_count": 17,
   "metadata": {},
   "outputs": [],
   "source": [
    "congress_base[\"Nombre Completo (FFL)\"] = congress_base[\"Primer Nombre\"] + \" \" + congress_base[\"Apellidos\"]"
   ]
  },
  {
   "cell_type": "code",
   "execution_count": 37,
   "metadata": {
    "scrolled": true
   },
   "outputs": [
    {
     "data": {
      "text/plain": [
       "APELLIDOS Y NOMBRES                      Bajonero Olivas Wilmer Solis\n",
       "GRUPO PARLAMENTARIO                                    ACCION POPULAR\n",
       "E-MAIL                                      wbajonero@congreso.gob.pe\n",
       "Nombres                                                  Solis Wilmer\n",
       "Primer Nombre                                                   Solis\n",
       "Apellidos                                             Bajonero Olivas\n",
       "Primer Apellido                                              Bajonero\n",
       "Nombre Completo                          Solis Wilmer Bajonero Olivas\n",
       "Nombre Completo (F)                                    Solis Bajonero\n",
       "Nombre Completo (FFL)                           Solis Bajonero Olivas\n",
       "Usuario de Twitter (1st FullN)                          No encontrado\n",
       "Usuario de Twitter (1st FirstN)                       Hugo_Bajonero01\n",
       "Usuario de Twitter (1st FirstN FullL)                   No encontrado\n",
       "description (1st FullN)                                     Not found\n",
       "Name: 14, dtype: object"
      ]
     },
     "execution_count": 37,
     "metadata": {},
     "output_type": "execute_result"
    }
   ],
   "source": [
    "congress_base.head()"
   ]
  },
  {
   "cell_type": "markdown",
   "metadata": {},
   "source": [
    "# Creating Full Name (2nd F and 1st L Name)"
   ]
  },
  {
   "cell_type": "code",
   "execution_count": null,
   "metadata": {},
   "outputs": [],
   "source": [
    "congress_base[\"Nombre Completo (2F1L)\"] = congress_base[\"Primer Nombre\"] + \" \" + congress_base[\"Apellidos\"]"
   ]
  },
  {
   "cell_type": "markdown",
   "metadata": {},
   "source": [
    "# Calling our twitter API"
   ]
  },
  {
   "cell_type": "code",
   "execution_count": 5,
   "metadata": {},
   "outputs": [],
   "source": [
    "api = twitter.Api(consumer_key=os.environ.get('consumer_key_twt'),\n",
    "                  consumer_secret=os.environ.get('consumer_secret_twt'),\n",
    "                  access_token_key=os.environ.get('access_token_key_twt'),\n",
    "                  access_token_secret=os.environ.get('access_token_secret_twt'))"
   ]
  },
  {
   "cell_type": "markdown",
   "metadata": {},
   "source": [
    "# Scraping user names"
   ]
  },
  {
   "cell_type": "markdown",
   "metadata": {},
   "source": [
    "Because the first result may not be the actual account, we'll compare the first results when scraping with their full names and only with the 'first' first and last name"
   ]
  },
  {
   "cell_type": "code",
   "execution_count": 20,
   "metadata": {},
   "outputs": [],
   "source": [
    "def get_user_name(real_name, max_nmb_users, desired_user):\n",
    "    \"\"\"\n",
    "    Gets the user name of a person\n",
    "    \n",
    "    Input: real name, max number of users to be looked for, number of desired result (from 1 to max_nmb_users)\n",
    "    Output: twitter accounts \n",
    "    \"\"\"\n",
    "    users = api.GetUsersSearch(term=real_name, count=max_nmb_users)\n",
    "    nmb_users_found = len(users)\n",
    "    \n",
    "    if nmb_users_found==0:\n",
    "        return \"No encontrado\"\n",
    "    elif nmb_users_found>0:\n",
    "        if desired_user<=nmb_users_found and desired_user>0: # if desired user is in range\n",
    "            return users[desired_user-1].screen_name\n",
    "        \n",
    "        elif desired_user>nmb_users_found: #if out of range\n",
    "            return \"Fuera de rango\"\n",
    "        \n",
    "        else:\n",
    "            print(\"Invalid value inputed. Input a positive integer (greater than 0)\")"
   ]
  },
  {
   "cell_type": "markdown",
   "metadata": {},
   "source": [
    "### Twitter Username (Full Name)"
   ]
  },
  {
   "cell_type": "code",
   "execution_count": 21,
   "metadata": {},
   "outputs": [],
   "source": [
    "congress_base['Usuario de Twitter (1st FullN)'] = congress_base[\"Nombre Completo\"].apply(lambda row: get_user_name(row, 3, 1))"
   ]
  },
  {
   "cell_type": "markdown",
   "metadata": {},
   "source": [
    "### Twitter Username (First Names)"
   ]
  },
  {
   "cell_type": "code",
   "execution_count": 63,
   "metadata": {},
   "outputs": [],
   "source": [
    "congress_base['Usuario de Twitter (1st FirstN)'] = congress_base[\"Nombre Completo (F)\"].apply(lambda row: get_user_name(row, 3, 1))"
   ]
  },
  {
   "cell_type": "markdown",
   "metadata": {},
   "source": [
    "### Twitter Username (First + Full Lastnames)"
   ]
  },
  {
   "cell_type": "code",
   "execution_count": 70,
   "metadata": {},
   "outputs": [],
   "source": [
    "congress_base['Usuario de Twitter (1st FirstN FullL)'] = congress_base[\"Nombre Completo (FFL)\"].apply(lambda row: get_user_name(row, 3, 1))"
   ]
  },
  {
   "cell_type": "markdown",
   "metadata": {},
   "source": [
    "### Twitter Username (Second First + First Lastnames)"
   ]
  },
  {
   "cell_type": "code",
   "execution_count": 89,
   "metadata": {},
   "outputs": [],
   "source": [
    "congress_base['Nombre Completo (SFFL)'] = congress_base['Segundo Nombre'] + \" \" + congress_base['Primer Apellido']"
   ]
  },
  {
   "cell_type": "code",
   "execution_count": 90,
   "metadata": {},
   "outputs": [],
   "source": [
    "congress_base['Usuario de Twitter (2nd FirstN FirstL)'] = congress_base[\"Nombre Completo (SFFL)\"].apply(lambda row: get_user_name(row, 3, 1))"
   ]
  },
  {
   "cell_type": "markdown",
   "metadata": {},
   "source": [
    "## Twitter Usernames (Second result)"
   ]
  },
  {
   "cell_type": "markdown",
   "metadata": {},
   "source": [
    "### Twitter Username (Full Name)"
   ]
  },
  {
   "cell_type": "code",
   "execution_count": 166,
   "metadata": {},
   "outputs": [],
   "source": [
    "congress_base['Usuario de Twitter (1st FullN) 2'] = congress_base[\"Nombre Completo\"].apply(lambda row: get_user_name(row, 2, 2))"
   ]
  },
  {
   "cell_type": "markdown",
   "metadata": {},
   "source": [
    "### Twitter Username (First Names)"
   ]
  },
  {
   "cell_type": "code",
   "execution_count": 167,
   "metadata": {},
   "outputs": [],
   "source": [
    "congress_base['Usuario de Twitter (1st FirstN) 2'] = congress_base[\"Nombre Completo (F)\"].apply(lambda row: get_user_name(row, 2, 2))"
   ]
  },
  {
   "cell_type": "markdown",
   "metadata": {},
   "source": [
    "### Twitter Username (First + Full Lastnames)"
   ]
  },
  {
   "cell_type": "code",
   "execution_count": 168,
   "metadata": {},
   "outputs": [],
   "source": [
    "congress_base['Usuario de Twitter (1st FirstN FullL) 2'] = congress_base[\"Nombre Completo (FFL)\"].apply(lambda row: get_user_name(row, 2, 2))"
   ]
  },
  {
   "cell_type": "markdown",
   "metadata": {},
   "source": [
    "### Twitter Username (Second First + First Lastnames)"
   ]
  },
  {
   "cell_type": "code",
   "execution_count": 170,
   "metadata": {},
   "outputs": [],
   "source": [
    "congress_base['Usuario de Twitter (2nd FirstN FirstL) 2'] = congress_base[\"Nombre Completo (SFFL)\"].apply(lambda row: get_user_name(row, 2, 2))"
   ]
  },
  {
   "cell_type": "code",
   "execution_count": 191,
   "metadata": {
    "scrolled": true
   },
   "outputs": [
    {
     "data": {
      "text/plain": [
       "33    \n",
       "Name: description (2nd FirstN FirstL), dtype: object"
      ]
     },
     "execution_count": 191,
     "metadata": {},
     "output_type": "execute_result"
    }
   ],
   "source": [
    "congress_base.iloc[33:34]['description (2nd FirstN FirstL)']"
   ]
  },
  {
   "cell_type": "markdown",
   "metadata": {},
   "source": [
    "# List of names"
   ]
  },
  {
   "cell_type": "code",
   "execution_count": 192,
   "metadata": {},
   "outputs": [],
   "source": [
    "list_of_names = [\"Nombre Completo\", \"Nombre Completo (F)\", \"Nombre Completo (FFL)\", \"Nombre Completo (SFFL)\"]"
   ]
  },
  {
   "cell_type": "markdown",
   "metadata": {},
   "source": [
    "# List of scrapes done"
   ]
  },
  {
   "cell_type": "code",
   "execution_count": 210,
   "metadata": {},
   "outputs": [],
   "source": [
    "list_of_scrapes = [\"(1st FullN)\", \"(1st FirstN)\", \"(1st FirstN FullL)\", \"(2nd FirstN FirstL)\", \"(1st FullN) 2\", \"(1st FirstN) 2\", \"(1st FirstN FullL) 2\", \"(2nd FirstN FirstL) 2\"]"
   ]
  },
  {
   "cell_type": "markdown",
   "metadata": {},
   "source": [
    "# Combined list"
   ]
  },
  {
   "cell_type": "code",
   "execution_count": 214,
   "metadata": {},
   "outputs": [],
   "source": [
    "first_combined_list = list(zip(list_of_names, list_of_scrapes)) # first users\n",
    "second_combined_list = list(zip(list_of_names, list_of_scrapes[int(len(list_of_scrapes)/2):]))# second users"
   ]
  },
  {
   "cell_type": "markdown",
   "metadata": {},
   "source": [
    "# Extracting descriptions of each account"
   ]
  },
  {
   "cell_type": "code",
   "execution_count": 79,
   "metadata": {},
   "outputs": [],
   "source": [
    "def getting_descriptions(user_name):\n",
    "    \n",
    "    if user_name != \"No encontrado\" and user_name != \"Fuera de rango\":\n",
    "        user = api.GetUsersSearch(term=user_name)\n",
    "        if len(user)>0:\n",
    "            return user[0].description\n",
    "        else:\n",
    "            return \"Usuario Abandonado\"\n",
    "    else:\n",
    "        return \"No encontrado\"\n",
    "        "
   ]
  },
  {
   "cell_type": "markdown",
   "metadata": {},
   "source": [
    "## Scraping first user's descriptions"
   ]
  },
  {
   "cell_type": "code",
   "execution_count": null,
   "metadata": {},
   "outputs": [],
   "source": [
    "for item in first_combined_list:\n",
    "    congress_base[f\"description {item[1]}\"] = congress_base[f\"{item[0]}\"].apply(lambda row: getting_descriptions(row))"
   ]
  },
  {
   "cell_type": "markdown",
   "metadata": {},
   "source": [
    "## Scraping second user's descriptions"
   ]
  },
  {
   "cell_type": "code",
   "execution_count": 175,
   "metadata": {},
   "outputs": [
    {
     "name": "stdout",
     "output_type": "stream",
     "text": [
      "(1st FullN) 2\n",
      "finished (1st FullN) 2\n",
      "(1st FirstN) 2\n",
      "finished (1st FirstN) 2\n",
      "(1st FirstN FullL) 2\n",
      "finished (1st FirstN FullL) 2\n",
      "(2nd FirstN FirstL) 2\n",
      "finished (2nd FirstN FirstL) 2\n"
     ]
    }
   ],
   "source": [
    "for item in second_combined_list:\n",
    "    congress_base[f\"description {item[1]} 2\"] = congress_base[f\"{item[0]}\"].apply(lambda row: getting_descriptions(row))"
   ]
  },
  {
   "cell_type": "code",
   "execution_count": 176,
   "metadata": {
    "scrolled": true
   },
   "outputs": [
    {
     "data": {
      "text/html": [
       "<div>\n",
       "<style scoped>\n",
       "    .dataframe tbody tr th:only-of-type {\n",
       "        vertical-align: middle;\n",
       "    }\n",
       "\n",
       "    .dataframe tbody tr th {\n",
       "        vertical-align: top;\n",
       "    }\n",
       "\n",
       "    .dataframe thead th {\n",
       "        text-align: right;\n",
       "    }\n",
       "</style>\n",
       "<table border=\"1\" class=\"dataframe\">\n",
       "  <thead>\n",
       "    <tr style=\"text-align: right;\">\n",
       "      <th></th>\n",
       "      <th>APELLIDOS Y NOMBRES</th>\n",
       "      <th>GRUPO PARLAMENTARIO</th>\n",
       "      <th>E-MAIL</th>\n",
       "      <th>Nombres</th>\n",
       "      <th>Primer Nombre</th>\n",
       "      <th>Apellidos</th>\n",
       "      <th>Primer Apellido</th>\n",
       "      <th>Nombre Completo</th>\n",
       "      <th>Nombre Completo (F)</th>\n",
       "      <th>Nombre Completo (FFL)</th>\n",
       "      <th>...</th>\n",
       "      <th>score (2nd FirstN FirstL)</th>\n",
       "      <th>Best match</th>\n",
       "      <th>Usuario de Twitter (1st FullN) 2</th>\n",
       "      <th>Usuario de Twitter (1st FirstN) 2</th>\n",
       "      <th>Usuario de Twitter (1st FirstN FullL) 2</th>\n",
       "      <th>Usuario de Twitter (2nd FirstN FirstL) 2</th>\n",
       "      <th>description (1st FullN) 2</th>\n",
       "      <th>description (1st FirstN) 2</th>\n",
       "      <th>description (1st FirstN FullL) 2</th>\n",
       "      <th>description (2nd FirstN FirstL) 2</th>\n",
       "    </tr>\n",
       "  </thead>\n",
       "  <tbody>\n",
       "    <tr>\n",
       "      <th>0</th>\n",
       "      <td>Acate Coronel Eduardo Geovanni</td>\n",
       "      <td>ALIANZA PARA EL PROGRESO</td>\n",
       "      <td>eacate@congreso.gob.pe</td>\n",
       "      <td>Geovanni Eduardo</td>\n",
       "      <td>Geovanni</td>\n",
       "      <td>Acate Coronel</td>\n",
       "      <td>Acate</td>\n",
       "      <td>Geovanni Eduardo Acate Coronel</td>\n",
       "      <td>Geovanni Acate</td>\n",
       "      <td>Geovanni Acate Coronel</td>\n",
       "      <td>...</td>\n",
       "      <td>0.0</td>\n",
       "      <td>geovanniacate</td>\n",
       "      <td>No encontrado</td>\n",
       "      <td>Fuera de rango</td>\n",
       "      <td>No encontrado</td>\n",
       "      <td>No encontrado</td>\n",
       "      <td>No encontrado</td>\n",
       "      <td>Programa de radio Inicio: 19.02.2015 Finalizó:...</td>\n",
       "      <td>No encontrado</td>\n",
       "      <td>No encontrado</td>\n",
       "    </tr>\n",
       "    <tr>\n",
       "      <th>1</th>\n",
       "      <td>Acuña Peralta Humberto</td>\n",
       "      <td>ALIANZA PARA EL PROGRESO</td>\n",
       "      <td>hacuna@congreso.gob.pe</td>\n",
       "      <td>Humberto</td>\n",
       "      <td>Humberto</td>\n",
       "      <td>Acuña Peralta</td>\n",
       "      <td>Acuña</td>\n",
       "      <td>Humberto Acuña Peralta</td>\n",
       "      <td>Humberto Acuña</td>\n",
       "      <td>Humberto Acuña Peralta</td>\n",
       "      <td>...</td>\n",
       "      <td>0.0</td>\n",
       "      <td>HumbertoAcunaP</td>\n",
       "      <td>humberto_ap</td>\n",
       "      <td>huacuna</td>\n",
       "      <td>humberto_ap</td>\n",
       "      <td>No encontrado</td>\n",
       "      <td>Gobernador regional de Lambayeque</td>\n",
       "      <td></td>\n",
       "      <td>Gobernador regional de Lambayeque</td>\n",
       "      <td>No encontrado</td>\n",
       "    </tr>\n",
       "    <tr>\n",
       "      <th>2</th>\n",
       "      <td>Aguilar Zamora Manuel</td>\n",
       "      <td>ACCION POPULAR</td>\n",
       "      <td>maguilarz@congreso.gob.pe</td>\n",
       "      <td>Manuel</td>\n",
       "      <td>Manuel</td>\n",
       "      <td>Aguilar Zamora</td>\n",
       "      <td>Aguilar</td>\n",
       "      <td>Manuel Aguilar Zamora</td>\n",
       "      <td>Manuel Aguilar</td>\n",
       "      <td>Manuel Aguilar Zamora</td>\n",
       "      <td>...</td>\n",
       "      <td>0.0</td>\n",
       "      <td>No match</td>\n",
       "      <td>ManuelAguilarz1</td>\n",
       "      <td>cornellius</td>\n",
       "      <td>ManuelAguilarz1</td>\n",
       "      <td>No encontrado</td>\n",
       "      <td></td>\n",
       "      <td>Coping with the midlife crisis i altres. Catal...</td>\n",
       "      <td></td>\n",
       "      <td>No encontrado</td>\n",
       "    </tr>\n",
       "    <tr>\n",
       "      <th>3</th>\n",
       "      <td>Alarcón Tejada Edgar Arnold</td>\n",
       "      <td>UNIÓN POR EL PERÚ</td>\n",
       "      <td>ealarcont@congreso.gob.pe</td>\n",
       "      <td>Arnold Edgar</td>\n",
       "      <td>Arnold</td>\n",
       "      <td>Alarcón Tejada</td>\n",
       "      <td>Alarcón</td>\n",
       "      <td>Arnold Edgar Alarcón Tejada</td>\n",
       "      <td>Arnold Alarcón</td>\n",
       "      <td>Arnold Alarcón Tejada</td>\n",
       "      <td>...</td>\n",
       "      <td>0.0</td>\n",
       "      <td>No match</td>\n",
       "      <td>No encontrado</td>\n",
       "      <td>ArnoldAlarcon1</td>\n",
       "      <td>No encontrado</td>\n",
       "      <td>EdgarAlarconT</td>\n",
       "      <td>No encontrado</td>\n",
       "      <td>gamer and basketball player</td>\n",
       "      <td>No encontrado</td>\n",
       "      <td>Congresista de la República (2020-2021). Arequ...</td>\n",
       "    </tr>\n",
       "    <tr>\n",
       "      <th>4</th>\n",
       "      <td>Alencastre Miranda Hirma Norma</td>\n",
       "      <td>SOMOS PERÚ</td>\n",
       "      <td>halencastre@congreso.gob.pe</td>\n",
       "      <td>Norma Hirma</td>\n",
       "      <td>Norma</td>\n",
       "      <td>Alencastre Miranda</td>\n",
       "      <td>Alencastre</td>\n",
       "      <td>Norma Hirma Alencastre Miranda</td>\n",
       "      <td>Norma Alencastre</td>\n",
       "      <td>Norma Alencastre Miranda</td>\n",
       "      <td>...</td>\n",
       "      <td>0.0</td>\n",
       "      <td>NormaAlencastre</td>\n",
       "      <td>No encontrado</td>\n",
       "      <td>noalro_5</td>\n",
       "      <td>No encontrado</td>\n",
       "      <td>No encontrado</td>\n",
       "      <td>No encontrado</td>\n",
       "      <td>Usuario Abandonado</td>\n",
       "      <td>No encontrado</td>\n",
       "      <td>No encontrado</td>\n",
       "    </tr>\n",
       "  </tbody>\n",
       "</table>\n",
       "<p>5 rows × 33 columns</p>\n",
       "</div>"
      ],
      "text/plain": [
       "              APELLIDOS Y NOMBRES       GRUPO PARLAMENTARIO  \\\n",
       "0  Acate Coronel Eduardo Geovanni  ALIANZA PARA EL PROGRESO   \n",
       "1          Acuña Peralta Humberto  ALIANZA PARA EL PROGRESO   \n",
       "2           Aguilar Zamora Manuel            ACCION POPULAR   \n",
       "3     Alarcón Tejada Edgar Arnold         UNIÓN POR EL PERÚ   \n",
       "4  Alencastre Miranda Hirma Norma                SOMOS PERÚ   \n",
       "\n",
       "                        E-MAIL           Nombres Primer Nombre  \\\n",
       "0       eacate@congreso.gob.pe  Geovanni Eduardo      Geovanni   \n",
       "1       hacuna@congreso.gob.pe          Humberto      Humberto   \n",
       "2    maguilarz@congreso.gob.pe            Manuel        Manuel   \n",
       "3    ealarcont@congreso.gob.pe      Arnold Edgar        Arnold   \n",
       "4  halencastre@congreso.gob.pe       Norma Hirma         Norma   \n",
       "\n",
       "            Apellidos Primer Apellido                 Nombre Completo  \\\n",
       "0       Acate Coronel           Acate  Geovanni Eduardo Acate Coronel   \n",
       "1       Acuña Peralta           Acuña          Humberto Acuña Peralta   \n",
       "2      Aguilar Zamora         Aguilar           Manuel Aguilar Zamora   \n",
       "3      Alarcón Tejada         Alarcón     Arnold Edgar Alarcón Tejada   \n",
       "4  Alencastre Miranda      Alencastre  Norma Hirma Alencastre Miranda   \n",
       "\n",
       "  Nombre Completo (F)     Nombre Completo (FFL)  ...  \\\n",
       "0      Geovanni Acate    Geovanni Acate Coronel  ...   \n",
       "1      Humberto Acuña    Humberto Acuña Peralta  ...   \n",
       "2      Manuel Aguilar     Manuel Aguilar Zamora  ...   \n",
       "3      Arnold Alarcón     Arnold Alarcón Tejada  ...   \n",
       "4    Norma Alencastre  Norma Alencastre Miranda  ...   \n",
       "\n",
       "  score (2nd FirstN FirstL)       Best match Usuario de Twitter (1st FullN) 2  \\\n",
       "0                       0.0    geovanniacate                    No encontrado   \n",
       "1                       0.0   HumbertoAcunaP                      humberto_ap   \n",
       "2                       0.0         No match                  ManuelAguilarz1   \n",
       "3                       0.0         No match                    No encontrado   \n",
       "4                       0.0  NormaAlencastre                    No encontrado   \n",
       "\n",
       "  Usuario de Twitter (1st FirstN) 2 Usuario de Twitter (1st FirstN FullL) 2  \\\n",
       "0                    Fuera de rango                           No encontrado   \n",
       "1                           huacuna                             humberto_ap   \n",
       "2                        cornellius                         ManuelAguilarz1   \n",
       "3                    ArnoldAlarcon1                           No encontrado   \n",
       "4                          noalro_5                           No encontrado   \n",
       "\n",
       "  Usuario de Twitter (2nd FirstN FirstL) 2          description (1st FullN) 2  \\\n",
       "0                            No encontrado                      No encontrado   \n",
       "1                            No encontrado  Gobernador regional de Lambayeque   \n",
       "2                            No encontrado                                      \n",
       "3                            EdgarAlarconT                      No encontrado   \n",
       "4                            No encontrado                      No encontrado   \n",
       "\n",
       "                          description (1st FirstN) 2  \\\n",
       "0  Programa de radio Inicio: 19.02.2015 Finalizó:...   \n",
       "1                                                      \n",
       "2  Coping with the midlife crisis i altres. Catal...   \n",
       "3                        gamer and basketball player   \n",
       "4                                 Usuario Abandonado   \n",
       "\n",
       "    description (1st FirstN FullL) 2  \\\n",
       "0                      No encontrado   \n",
       "1  Gobernador regional de Lambayeque   \n",
       "2                                      \n",
       "3                      No encontrado   \n",
       "4                      No encontrado   \n",
       "\n",
       "                   description (2nd FirstN FirstL) 2  \n",
       "0                                      No encontrado  \n",
       "1                                      No encontrado  \n",
       "2                                      No encontrado  \n",
       "3  Congresista de la República (2020-2021). Arequ...  \n",
       "4                                      No encontrado  \n",
       "\n",
       "[5 rows x 33 columns]"
      ]
     },
     "execution_count": 176,
     "metadata": {},
     "output_type": "execute_result"
    }
   ],
   "source": [
    "congress_base.head()"
   ]
  },
  {
   "cell_type": "markdown",
   "metadata": {},
   "source": [
    "# Score for detecting Congressmen"
   ]
  },
  {
   "cell_type": "code",
   "execution_count": 222,
   "metadata": {},
   "outputs": [],
   "source": [
    "congress_words = [\"congreso\", \"congresista\", \"politica\", \"política\", \"soci\", \"sociedad\", \"social\", \n",
    "                  \"bancada\", \"Perú\", \"republica\", \"república\", \"democracia\"]\n",
    "\n",
    "ngrams_congress = []\n",
    "for word in congress_words:\n",
    "    ngrams = nltk.ngrams(word, 4)\n",
    "    for gram in ngrams:\n",
    "        ngrams_congress.append(''.join(gram))"
   ]
  },
  {
   "cell_type": "code",
   "execution_count": 223,
   "metadata": {},
   "outputs": [],
   "source": [
    "def congresscore(description, ngrams):\n",
    "    score = 0\n",
    "    for gram in ngrams:\n",
    "        if gram in description:\n",
    "            score +=1\n",
    "    return score/len(ngrams_congress)"
   ]
  },
  {
   "cell_type": "code",
   "execution_count": 224,
   "metadata": {},
   "outputs": [],
   "source": [
    "for scrape in list_of_scrapes:\n",
    "    congress_base[f\"score {scrape}\"] = congress_base[f\"description {scrape}\"].apply(lambda row: congresscore(row, ngrams_congress))"
   ]
  },
  {
   "cell_type": "code",
   "execution_count": 227,
   "metadata": {
    "scrolled": true
   },
   "outputs": [
    {
     "data": {
      "text/html": [
       "<div>\n",
       "<style scoped>\n",
       "    .dataframe tbody tr th:only-of-type {\n",
       "        vertical-align: middle;\n",
       "    }\n",
       "\n",
       "    .dataframe tbody tr th {\n",
       "        vertical-align: top;\n",
       "    }\n",
       "\n",
       "    .dataframe thead th {\n",
       "        text-align: right;\n",
       "    }\n",
       "</style>\n",
       "<table border=\"1\" class=\"dataframe\">\n",
       "  <thead>\n",
       "    <tr style=\"text-align: right;\">\n",
       "      <th></th>\n",
       "      <th>APELLIDOS Y NOMBRES</th>\n",
       "      <th>GRUPO PARLAMENTARIO</th>\n",
       "      <th>E-MAIL</th>\n",
       "      <th>Nombres</th>\n",
       "      <th>Primer Nombre</th>\n",
       "      <th>Apellidos</th>\n",
       "      <th>Primer Apellido</th>\n",
       "      <th>Nombre Completo</th>\n",
       "      <th>Nombre Completo (F)</th>\n",
       "      <th>Nombre Completo (FFL)</th>\n",
       "      <th>...</th>\n",
       "      <th>Usuario de Twitter (1st FirstN FullL) 2</th>\n",
       "      <th>Usuario de Twitter (2nd FirstN FirstL) 2</th>\n",
       "      <th>description (1st FullN) 2</th>\n",
       "      <th>description (1st FirstN) 2</th>\n",
       "      <th>description (1st FirstN FullL) 2</th>\n",
       "      <th>description (2nd FirstN FirstL) 2</th>\n",
       "      <th>score (1st FullN) 2</th>\n",
       "      <th>score (1st FirstN) 2</th>\n",
       "      <th>score (1st FirstN FullL) 2</th>\n",
       "      <th>score (2nd FirstN FirstL) 2</th>\n",
       "    </tr>\n",
       "  </thead>\n",
       "  <tbody>\n",
       "    <tr>\n",
       "      <th>0</th>\n",
       "      <td>Acate Coronel Eduardo Geovanni</td>\n",
       "      <td>ALIANZA PARA EL PROGRESO</td>\n",
       "      <td>eacate@congreso.gob.pe</td>\n",
       "      <td>Geovanni Eduardo</td>\n",
       "      <td>Geovanni</td>\n",
       "      <td>Acate Coronel</td>\n",
       "      <td>Acate</td>\n",
       "      <td>Geovanni Eduardo Acate Coronel</td>\n",
       "      <td>Geovanni Acate</td>\n",
       "      <td>Geovanni Acate Coronel</td>\n",
       "      <td>...</td>\n",
       "      <td>No encontrado</td>\n",
       "      <td>No encontrado</td>\n",
       "      <td>No encontrado</td>\n",
       "      <td>Programa de radio Inicio: 19.02.2015 Finalizó:...</td>\n",
       "      <td>No encontrado</td>\n",
       "      <td>No encontrado</td>\n",
       "      <td>0.0</td>\n",
       "      <td>0.0</td>\n",
       "      <td>0.0</td>\n",
       "      <td>0.000000</td>\n",
       "    </tr>\n",
       "    <tr>\n",
       "      <th>1</th>\n",
       "      <td>Acuña Peralta Humberto</td>\n",
       "      <td>ALIANZA PARA EL PROGRESO</td>\n",
       "      <td>hacuna@congreso.gob.pe</td>\n",
       "      <td>Humberto</td>\n",
       "      <td>Humberto</td>\n",
       "      <td>Acuña Peralta</td>\n",
       "      <td>Acuña</td>\n",
       "      <td>Humberto Acuña Peralta</td>\n",
       "      <td>Humberto Acuña</td>\n",
       "      <td>Humberto Acuña Peralta</td>\n",
       "      <td>...</td>\n",
       "      <td>humberto_ap</td>\n",
       "      <td>No encontrado</td>\n",
       "      <td>Gobernador regional de Lambayeque</td>\n",
       "      <td></td>\n",
       "      <td>Gobernador regional de Lambayeque</td>\n",
       "      <td>No encontrado</td>\n",
       "      <td>0.0</td>\n",
       "      <td>0.0</td>\n",
       "      <td>0.0</td>\n",
       "      <td>0.000000</td>\n",
       "    </tr>\n",
       "    <tr>\n",
       "      <th>2</th>\n",
       "      <td>Aguilar Zamora Manuel</td>\n",
       "      <td>ACCION POPULAR</td>\n",
       "      <td>maguilarz@congreso.gob.pe</td>\n",
       "      <td>Manuel</td>\n",
       "      <td>Manuel</td>\n",
       "      <td>Aguilar Zamora</td>\n",
       "      <td>Aguilar</td>\n",
       "      <td>Manuel Aguilar Zamora</td>\n",
       "      <td>Manuel Aguilar</td>\n",
       "      <td>Manuel Aguilar Zamora</td>\n",
       "      <td>...</td>\n",
       "      <td>ManuelAguilarz1</td>\n",
       "      <td>No encontrado</td>\n",
       "      <td></td>\n",
       "      <td>Coping with the midlife crisis i altres. Catal...</td>\n",
       "      <td></td>\n",
       "      <td>No encontrado</td>\n",
       "      <td>0.0</td>\n",
       "      <td>0.0</td>\n",
       "      <td>0.0</td>\n",
       "      <td>0.000000</td>\n",
       "    </tr>\n",
       "    <tr>\n",
       "      <th>3</th>\n",
       "      <td>Alarcón Tejada Edgar Arnold</td>\n",
       "      <td>UNIÓN POR EL PERÚ</td>\n",
       "      <td>ealarcont@congreso.gob.pe</td>\n",
       "      <td>Arnold Edgar</td>\n",
       "      <td>Arnold</td>\n",
       "      <td>Alarcón Tejada</td>\n",
       "      <td>Alarcón</td>\n",
       "      <td>Arnold Edgar Alarcón Tejada</td>\n",
       "      <td>Arnold Alarcón</td>\n",
       "      <td>Arnold Alarcón Tejada</td>\n",
       "      <td>...</td>\n",
       "      <td>No encontrado</td>\n",
       "      <td>EdgarAlarconT</td>\n",
       "      <td>No encontrado</td>\n",
       "      <td>gamer and basketball player</td>\n",
       "      <td>No encontrado</td>\n",
       "      <td>Congresista de la República (2020-2021). Arequ...</td>\n",
       "      <td>0.0</td>\n",
       "      <td>0.0</td>\n",
       "      <td>0.0</td>\n",
       "      <td>0.303571</td>\n",
       "    </tr>\n",
       "    <tr>\n",
       "      <th>4</th>\n",
       "      <td>Alencastre Miranda Hirma Norma</td>\n",
       "      <td>SOMOS PERÚ</td>\n",
       "      <td>halencastre@congreso.gob.pe</td>\n",
       "      <td>Norma Hirma</td>\n",
       "      <td>Norma</td>\n",
       "      <td>Alencastre Miranda</td>\n",
       "      <td>Alencastre</td>\n",
       "      <td>Norma Hirma Alencastre Miranda</td>\n",
       "      <td>Norma Alencastre</td>\n",
       "      <td>Norma Alencastre Miranda</td>\n",
       "      <td>...</td>\n",
       "      <td>No encontrado</td>\n",
       "      <td>No encontrado</td>\n",
       "      <td>No encontrado</td>\n",
       "      <td>Usuario Abandonado</td>\n",
       "      <td>No encontrado</td>\n",
       "      <td>No encontrado</td>\n",
       "      <td>0.0</td>\n",
       "      <td>0.0</td>\n",
       "      <td>0.0</td>\n",
       "      <td>0.000000</td>\n",
       "    </tr>\n",
       "  </tbody>\n",
       "</table>\n",
       "<p>5 rows × 37 columns</p>\n",
       "</div>"
      ],
      "text/plain": [
       "              APELLIDOS Y NOMBRES       GRUPO PARLAMENTARIO  \\\n",
       "0  Acate Coronel Eduardo Geovanni  ALIANZA PARA EL PROGRESO   \n",
       "1          Acuña Peralta Humberto  ALIANZA PARA EL PROGRESO   \n",
       "2           Aguilar Zamora Manuel            ACCION POPULAR   \n",
       "3     Alarcón Tejada Edgar Arnold         UNIÓN POR EL PERÚ   \n",
       "4  Alencastre Miranda Hirma Norma                SOMOS PERÚ   \n",
       "\n",
       "                        E-MAIL           Nombres Primer Nombre  \\\n",
       "0       eacate@congreso.gob.pe  Geovanni Eduardo      Geovanni   \n",
       "1       hacuna@congreso.gob.pe          Humberto      Humberto   \n",
       "2    maguilarz@congreso.gob.pe            Manuel        Manuel   \n",
       "3    ealarcont@congreso.gob.pe      Arnold Edgar        Arnold   \n",
       "4  halencastre@congreso.gob.pe       Norma Hirma         Norma   \n",
       "\n",
       "            Apellidos Primer Apellido                 Nombre Completo  \\\n",
       "0       Acate Coronel           Acate  Geovanni Eduardo Acate Coronel   \n",
       "1       Acuña Peralta           Acuña          Humberto Acuña Peralta   \n",
       "2      Aguilar Zamora         Aguilar           Manuel Aguilar Zamora   \n",
       "3      Alarcón Tejada         Alarcón     Arnold Edgar Alarcón Tejada   \n",
       "4  Alencastre Miranda      Alencastre  Norma Hirma Alencastre Miranda   \n",
       "\n",
       "  Nombre Completo (F)     Nombre Completo (FFL)  ...  \\\n",
       "0      Geovanni Acate    Geovanni Acate Coronel  ...   \n",
       "1      Humberto Acuña    Humberto Acuña Peralta  ...   \n",
       "2      Manuel Aguilar     Manuel Aguilar Zamora  ...   \n",
       "3      Arnold Alarcón     Arnold Alarcón Tejada  ...   \n",
       "4    Norma Alencastre  Norma Alencastre Miranda  ...   \n",
       "\n",
       "  Usuario de Twitter (1st FirstN FullL) 2  \\\n",
       "0                           No encontrado   \n",
       "1                             humberto_ap   \n",
       "2                         ManuelAguilarz1   \n",
       "3                           No encontrado   \n",
       "4                           No encontrado   \n",
       "\n",
       "  Usuario de Twitter (2nd FirstN FirstL) 2          description (1st FullN) 2  \\\n",
       "0                            No encontrado                      No encontrado   \n",
       "1                            No encontrado  Gobernador regional de Lambayeque   \n",
       "2                            No encontrado                                      \n",
       "3                            EdgarAlarconT                      No encontrado   \n",
       "4                            No encontrado                      No encontrado   \n",
       "\n",
       "                          description (1st FirstN) 2  \\\n",
       "0  Programa de radio Inicio: 19.02.2015 Finalizó:...   \n",
       "1                                                      \n",
       "2  Coping with the midlife crisis i altres. Catal...   \n",
       "3                        gamer and basketball player   \n",
       "4                                 Usuario Abandonado   \n",
       "\n",
       "    description (1st FirstN FullL) 2  \\\n",
       "0                      No encontrado   \n",
       "1  Gobernador regional de Lambayeque   \n",
       "2                                      \n",
       "3                      No encontrado   \n",
       "4                      No encontrado   \n",
       "\n",
       "                   description (2nd FirstN FirstL) 2 score (1st FullN) 2  \\\n",
       "0                                      No encontrado                 0.0   \n",
       "1                                      No encontrado                 0.0   \n",
       "2                                      No encontrado                 0.0   \n",
       "3  Congresista de la República (2020-2021). Arequ...                 0.0   \n",
       "4                                      No encontrado                 0.0   \n",
       "\n",
       "  score (1st FirstN) 2 score (1st FirstN FullL) 2 score (2nd FirstN FirstL) 2  \n",
       "0                  0.0                        0.0                    0.000000  \n",
       "1                  0.0                        0.0                    0.000000  \n",
       "2                  0.0                        0.0                    0.000000  \n",
       "3                  0.0                        0.0                    0.303571  \n",
       "4                  0.0                        0.0                    0.000000  \n",
       "\n",
       "[5 rows x 37 columns]"
      ]
     },
     "execution_count": 227,
     "metadata": {},
     "output_type": "execute_result"
    }
   ],
   "source": [
    "congress_base.head()"
   ]
  },
  {
   "cell_type": "markdown",
   "metadata": {},
   "source": [
    "# Getting the user with the highest score among the others"
   ]
  },
  {
   "cell_type": "code",
   "execution_count": 228,
   "metadata": {},
   "outputs": [],
   "source": [
    "def getting_best_match(row):\n",
    "    best_match = \"No match\"\n",
    "    benchmark = 0\n",
    "    \n",
    "    for scrape in list_of_scrapes:\n",
    "        #print(row[f\"score {scrape}\"])\n",
    "        if row[f\"score {scrape}\"]>benchmark:\n",
    "            best_match = row[f\"Usuario de Twitter {scrape}\"]\n",
    "            benchmark = row[f\"score {scrape}\"]\n",
    "    return best_match"
   ]
  },
  {
   "cell_type": "code",
   "execution_count": 229,
   "metadata": {},
   "outputs": [],
   "source": [
    "congress_base[\"Best match\"] = congress_base.apply(lambda row: getting_best_match(row), axis=1)"
   ]
  },
  {
   "cell_type": "code",
   "execution_count": 230,
   "metadata": {
    "scrolled": false
   },
   "outputs": [
    {
     "data": {
      "text/plain": [
       "APELLIDOS Y NOMBRES                                                   Chehade Moya Omar Karim\n",
       "GRUPO PARLAMENTARIO                                                  ALIANZA PARA EL PROGRESO\n",
       "E-MAIL                                                               ochehade@congreso.gob.pe\n",
       "Nombres                                                                            Karim Omar\n",
       "Primer Nombre                                                                           Karim\n",
       "Apellidos                                                                        Chehade Moya\n",
       "Primer Apellido                                                                       Chehade\n",
       "Nombre Completo                                                       Karim Omar Chehade Moya\n",
       "Nombre Completo (F)                                                             Karim Chehade\n",
       "Nombre Completo (FFL)                                                      Karim Chehade Moya\n",
       "Usuario de Twitter (1st FullN)                                                  No encontrado\n",
       "Usuario de Twitter (1st FirstN)                                                 karim_chehade\n",
       "Usuario de Twitter (1st FirstN FullL)                                           No encontrado\n",
       "description (1st FullN)                                                         No encontrado\n",
       "Segundo Nombre                                                                           Omar\n",
       "description (1st FirstN)                                                                     \n",
       "description (1st FirstN FullL)                                                  No encontrado\n",
       "Nombre Completo (SFFL)                                                           Omar Chehade\n",
       "Usuario de Twitter (2nd FirstN FirstL)                                        OmarChehadeMoya\n",
       "description (2nd FirstN FirstL)             Congresista de la Republica 2020-2021. Abogado...\n",
       "score (1st FullN)                                                                           0\n",
       "score (1st FirstN)                                                                          0\n",
       "score (1st FirstN FullL)                                                                    0\n",
       "score (2nd FirstN FirstL)                                                            0.303571\n",
       "Best match                                                                    OmarChehadeMoya\n",
       "Usuario de Twitter (1st FullN) 2                                                No encontrado\n",
       "Usuario de Twitter (1st FirstN) 2                                                   ochehade2\n",
       "Usuario de Twitter (1st FirstN FullL) 2                                         No encontrado\n",
       "Usuario de Twitter (2nd FirstN FirstL) 2                                         OmarChehade8\n",
       "description (1st FullN) 2                                                       No encontrado\n",
       "description (1st FirstN) 2                                                                   \n",
       "description (1st FirstN FullL) 2                                                No encontrado\n",
       "description (2nd FirstN FirstL) 2           Wford Tx📍 Live every day like it's your last🤟🏻...\n",
       "score (1st FullN) 2                                                                         0\n",
       "score (1st FirstN) 2                                                                        0\n",
       "score (1st FirstN FullL) 2                                                                  0\n",
       "score (2nd FirstN FirstL) 2                                                                 0\n",
       "Name: 33, dtype: object"
      ]
     },
     "execution_count": 230,
     "metadata": {},
     "output_type": "execute_result"
    }
   ],
   "source": [
    "congress_base.iloc[33]"
   ]
  },
  {
   "cell_type": "markdown",
   "metadata": {},
   "source": [
    "# Generating output database"
   ]
  },
  {
   "cell_type": "code",
   "execution_count": 231,
   "metadata": {},
   "outputs": [],
   "source": [
    "output_users = congress_base[[\"Nombre Completo\", \"GRUPO PARLAMENTARIO\", \"Best match\"]]"
   ]
  },
  {
   "cell_type": "code",
   "execution_count": 232,
   "metadata": {},
   "outputs": [
    {
     "name": "stderr",
     "output_type": "stream",
     "text": [
      "D:\\Anaconda5.2.0\\lib\\site-packages\\pandas\\compat\\_optional.py:106: UserWarning: Pandas requires version '0.9.8' or newer of 'xlsxwriter' (version '0.9.3' currently installed).\n",
      "  warnings.warn(msg, UserWarning)\n"
     ]
    }
   ],
   "source": [
    "output_users.to_excel(\"congress twitter best matches.xlsx\")"
   ]
  }
 ],
 "metadata": {
  "kernelspec": {
   "display_name": "Python 3",
   "language": "python",
   "name": "python3"
  },
  "language_info": {
   "codemirror_mode": {
    "name": "ipython",
    "version": 3
   },
   "file_extension": ".py",
   "mimetype": "text/x-python",
   "name": "python",
   "nbconvert_exporter": "python",
   "pygments_lexer": "ipython3",
   "version": "3.6.5"
  }
 },
 "nbformat": 4,
 "nbformat_minor": 2
}
