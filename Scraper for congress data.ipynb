{
 "cells": [
  {
   "cell_type": "markdown",
   "metadata": {},
   "source": [
    "**Programmer:** Marco Gutierrez"
   ]
  },
  {
   "cell_type": "markdown",
   "metadata": {},
   "source": [
    "**Note:** Don't run the whole code in once. Twitter imposes a constrain of 300 requests approx. per 15 mins, so take that into account when running this script"
   ]
  },
  {
   "cell_type": "markdown",
   "metadata": {},
   "source": [
    "# Importing packages"
   ]
  },
  {
   "cell_type": "code",
   "execution_count": 60,
   "metadata": {},
   "outputs": [],
   "source": [
    "import pandas as pd\n",
    "import twitter\n",
    "from twitter import TwitterError\n",
    "import nltk\n",
    "import os"
   ]
  },
  {
   "cell_type": "code",
   "execution_count": 2,
   "metadata": {},
   "outputs": [],
   "source": [
    "# importing our congress dataframe\n",
    "congress_base = pd.read_excel(\"datos_congress.xlsx\")"
   ]
  },
  {
   "cell_type": "code",
   "execution_count": 3,
   "metadata": {},
   "outputs": [
    {
     "data": {
      "text/html": [
       "<div>\n",
       "<style scoped>\n",
       "    .dataframe tbody tr th:only-of-type {\n",
       "        vertical-align: middle;\n",
       "    }\n",
       "\n",
       "    .dataframe tbody tr th {\n",
       "        vertical-align: top;\n",
       "    }\n",
       "\n",
       "    .dataframe thead th {\n",
       "        text-align: right;\n",
       "    }\n",
       "</style>\n",
       "<table border=\"1\" class=\"dataframe\">\n",
       "  <thead>\n",
       "    <tr style=\"text-align: right;\">\n",
       "      <th></th>\n",
       "      <th>APELLIDOS Y NOMBRES</th>\n",
       "      <th>GRUPO PARLAMENTARIO</th>\n",
       "      <th>E-MAIL</th>\n",
       "    </tr>\n",
       "  </thead>\n",
       "  <tbody>\n",
       "    <tr>\n",
       "      <th>0</th>\n",
       "      <td>Acate Coronel Eduardo Geovanni</td>\n",
       "      <td>ALIANZA PARA EL PROGRESO</td>\n",
       "      <td>eacate@congreso.gob.pe</td>\n",
       "    </tr>\n",
       "    <tr>\n",
       "      <th>1</th>\n",
       "      <td>Acuña Peralta Humberto</td>\n",
       "      <td>ALIANZA PARA EL PROGRESO</td>\n",
       "      <td>hacuna@congreso.gob.pe</td>\n",
       "    </tr>\n",
       "    <tr>\n",
       "      <th>2</th>\n",
       "      <td>Aguilar Zamora Manuel</td>\n",
       "      <td>ACCION POPULAR</td>\n",
       "      <td>maguilarz@congreso.gob.pe</td>\n",
       "    </tr>\n",
       "    <tr>\n",
       "      <th>3</th>\n",
       "      <td>Alarcón Tejada Edgar Arnold</td>\n",
       "      <td>UNIÓN POR EL PERÚ</td>\n",
       "      <td>ealarcont@congreso.gob.pe</td>\n",
       "    </tr>\n",
       "    <tr>\n",
       "      <th>4</th>\n",
       "      <td>Alencastre Miranda Hirma Norma</td>\n",
       "      <td>SOMOS PERÚ</td>\n",
       "      <td>halencastre@congreso.gob.pe</td>\n",
       "    </tr>\n",
       "    <tr>\n",
       "      <th>5</th>\n",
       "      <td>Aliaga Pajares Guillermo Alejandro Antonio</td>\n",
       "      <td>SOMOS PERÚ</td>\n",
       "      <td>galiaga@congreso.gob.pe</td>\n",
       "    </tr>\n",
       "  </tbody>\n",
       "</table>\n",
       "</div>"
      ],
      "text/plain": [
       "                          APELLIDOS Y NOMBRES       GRUPO PARLAMENTARIO  \\\n",
       "0              Acate Coronel Eduardo Geovanni  ALIANZA PARA EL PROGRESO   \n",
       "1                      Acuña Peralta Humberto  ALIANZA PARA EL PROGRESO   \n",
       "2                       Aguilar Zamora Manuel            ACCION POPULAR   \n",
       "3                 Alarcón Tejada Edgar Arnold         UNIÓN POR EL PERÚ   \n",
       "4              Alencastre Miranda Hirma Norma                SOMOS PERÚ   \n",
       "5  Aliaga Pajares Guillermo Alejandro Antonio                SOMOS PERÚ   \n",
       "\n",
       "                        E-MAIL  \n",
       "0       eacate@congreso.gob.pe  \n",
       "1       hacuna@congreso.gob.pe  \n",
       "2    maguilarz@congreso.gob.pe  \n",
       "3    ealarcont@congreso.gob.pe  \n",
       "4  halencastre@congreso.gob.pe  \n",
       "5      galiaga@congreso.gob.pe  "
      ]
     },
     "execution_count": 3,
     "metadata": {},
     "output_type": "execute_result"
    }
   ],
   "source": [
    "congress_base.iloc[:6]"
   ]
  },
  {
   "cell_type": "markdown",
   "metadata": {},
   "source": [
    "## Getting first names"
   ]
  },
  {
   "cell_type": "code",
   "execution_count": 4,
   "metadata": {},
   "outputs": [],
   "source": [
    "def get_first_names(row):\n",
    "    \"\"\"Function to get first names\n",
    "    \n",
    "    Input: row string value with full name\n",
    "    Output: first name\n",
    "    \"\"\"\n",
    "    splitted_names = row.split(\" \")\n",
    "    length = len(splitted_names)\n",
    "\n",
    "    if length>=5:\n",
    "        first_names = splitted_names[-1] + \" \" + splitted_names[-2] + \" \" + splitted_names[-3]\n",
    "    \n",
    "    elif length==4:\n",
    "        first_names = splitted_names[-1] + \" \" + splitted_names[-2]\n",
    "        \n",
    "    elif length==3 or length==2:\n",
    "        first_names = splitted_names[-1]\n",
    "            \n",
    "    return first_names"
   ]
  },
  {
   "cell_type": "code",
   "execution_count": 5,
   "metadata": {},
   "outputs": [],
   "source": [
    "congress_base[\"Nombres\"] = congress_base[\"APELLIDOS Y NOMBRES\"].apply(lambda row: get_first_names(row))"
   ]
  },
  {
   "cell_type": "code",
   "execution_count": 6,
   "metadata": {},
   "outputs": [],
   "source": [
    "congress_base[\"Primer Nombre\"] = congress_base[\"APELLIDOS Y NOMBRES\"].apply(lambda row: get_first_names(row).split(\" \")[0])"
   ]
  },
  {
   "cell_type": "code",
   "execution_count": 7,
   "metadata": {},
   "outputs": [],
   "source": [
    "def get_second_name(row):\n",
    "    if len(row.split(\" \"))>1:\n",
    "        return row.split(\" \")[1]\n",
    "    else:\n",
    "        return \"No encontrado\""
   ]
  },
  {
   "cell_type": "code",
   "execution_count": 8,
   "metadata": {},
   "outputs": [],
   "source": [
    "congress_base[\"Segundo Nombre\"] = congress_base[\"Nombres\"].apply(lambda row: get_second_name(row))"
   ]
  },
  {
   "cell_type": "code",
   "execution_count": 9,
   "metadata": {
    "scrolled": true
   },
   "outputs": [
    {
     "data": {
      "text/html": [
       "<div>\n",
       "<style scoped>\n",
       "    .dataframe tbody tr th:only-of-type {\n",
       "        vertical-align: middle;\n",
       "    }\n",
       "\n",
       "    .dataframe tbody tr th {\n",
       "        vertical-align: top;\n",
       "    }\n",
       "\n",
       "    .dataframe thead th {\n",
       "        text-align: right;\n",
       "    }\n",
       "</style>\n",
       "<table border=\"1\" class=\"dataframe\">\n",
       "  <thead>\n",
       "    <tr style=\"text-align: right;\">\n",
       "      <th></th>\n",
       "      <th>APELLIDOS Y NOMBRES</th>\n",
       "      <th>GRUPO PARLAMENTARIO</th>\n",
       "      <th>E-MAIL</th>\n",
       "      <th>Nombres</th>\n",
       "      <th>Primer Nombre</th>\n",
       "      <th>Segundo Nombre</th>\n",
       "    </tr>\n",
       "  </thead>\n",
       "  <tbody>\n",
       "    <tr>\n",
       "      <th>0</th>\n",
       "      <td>Acate Coronel Eduardo Geovanni</td>\n",
       "      <td>ALIANZA PARA EL PROGRESO</td>\n",
       "      <td>eacate@congreso.gob.pe</td>\n",
       "      <td>Geovanni Eduardo</td>\n",
       "      <td>Geovanni</td>\n",
       "      <td>Eduardo</td>\n",
       "    </tr>\n",
       "    <tr>\n",
       "      <th>1</th>\n",
       "      <td>Acuña Peralta Humberto</td>\n",
       "      <td>ALIANZA PARA EL PROGRESO</td>\n",
       "      <td>hacuna@congreso.gob.pe</td>\n",
       "      <td>Humberto</td>\n",
       "      <td>Humberto</td>\n",
       "      <td>No encontrado</td>\n",
       "    </tr>\n",
       "    <tr>\n",
       "      <th>2</th>\n",
       "      <td>Aguilar Zamora Manuel</td>\n",
       "      <td>ACCION POPULAR</td>\n",
       "      <td>maguilarz@congreso.gob.pe</td>\n",
       "      <td>Manuel</td>\n",
       "      <td>Manuel</td>\n",
       "      <td>No encontrado</td>\n",
       "    </tr>\n",
       "    <tr>\n",
       "      <th>3</th>\n",
       "      <td>Alarcón Tejada Edgar Arnold</td>\n",
       "      <td>UNIÓN POR EL PERÚ</td>\n",
       "      <td>ealarcont@congreso.gob.pe</td>\n",
       "      <td>Arnold Edgar</td>\n",
       "      <td>Arnold</td>\n",
       "      <td>Edgar</td>\n",
       "    </tr>\n",
       "    <tr>\n",
       "      <th>4</th>\n",
       "      <td>Alencastre Miranda Hirma Norma</td>\n",
       "      <td>SOMOS PERÚ</td>\n",
       "      <td>halencastre@congreso.gob.pe</td>\n",
       "      <td>Norma Hirma</td>\n",
       "      <td>Norma</td>\n",
       "      <td>Hirma</td>\n",
       "    </tr>\n",
       "  </tbody>\n",
       "</table>\n",
       "</div>"
      ],
      "text/plain": [
       "              APELLIDOS Y NOMBRES       GRUPO PARLAMENTARIO  \\\n",
       "0  Acate Coronel Eduardo Geovanni  ALIANZA PARA EL PROGRESO   \n",
       "1          Acuña Peralta Humberto  ALIANZA PARA EL PROGRESO   \n",
       "2           Aguilar Zamora Manuel            ACCION POPULAR   \n",
       "3     Alarcón Tejada Edgar Arnold         UNIÓN POR EL PERÚ   \n",
       "4  Alencastre Miranda Hirma Norma                SOMOS PERÚ   \n",
       "\n",
       "                        E-MAIL           Nombres Primer Nombre Segundo Nombre  \n",
       "0       eacate@congreso.gob.pe  Geovanni Eduardo      Geovanni        Eduardo  \n",
       "1       hacuna@congreso.gob.pe          Humberto      Humberto  No encontrado  \n",
       "2    maguilarz@congreso.gob.pe            Manuel        Manuel  No encontrado  \n",
       "3    ealarcont@congreso.gob.pe      Arnold Edgar        Arnold          Edgar  \n",
       "4  halencastre@congreso.gob.pe       Norma Hirma         Norma          Hirma  "
      ]
     },
     "execution_count": 9,
     "metadata": {},
     "output_type": "execute_result"
    }
   ],
   "source": [
    "congress_base.head()"
   ]
  },
  {
   "cell_type": "markdown",
   "metadata": {},
   "source": [
    "## Getting last names"
   ]
  },
  {
   "cell_type": "code",
   "execution_count": 10,
   "metadata": {},
   "outputs": [],
   "source": [
    "def get_last_names(row):\n",
    "    \"\"\"Function to get last names\n",
    "    \n",
    "    Input: row string value with full name\n",
    "    Output: last name\n",
    "    \"\"\"\n",
    "    splitted_names = row.split(\" \")\n",
    "    length = len(splitted_names)\n",
    "\n",
    "    if length<=4:\n",
    "        last_names = splitted_names[0] + \" \" + splitted_names[1]\n",
    "    elif length>=5:\n",
    "        last_names = splitted_names[0] + \" \" + splitted_names[1] + \" \" + splitted_names[2] \n",
    "    \n",
    "    return last_names"
   ]
  },
  {
   "cell_type": "code",
   "execution_count": 11,
   "metadata": {},
   "outputs": [],
   "source": [
    "congress_base[\"Apellidos\"] = congress_base[\"APELLIDOS Y NOMBRES\"].apply(lambda row: get_last_names(row))"
   ]
  },
  {
   "cell_type": "markdown",
   "metadata": {},
   "source": [
    "### Getting first last name"
   ]
  },
  {
   "cell_type": "code",
   "execution_count": 12,
   "metadata": {},
   "outputs": [],
   "source": [
    "def get_first_last_name(row):\n",
    "    \"\"\"Function to get last names\n",
    "    \n",
    "    Input: row string value with last name\n",
    "    Output: first last name\"\"\"\n",
    "    \n",
    "    splitted_last_names = row.split(\" \")\n",
    "    length = len(splitted_last_names)\n",
    "\n",
    "    if length==2:\n",
    "        first_last_name = splitted_last_names[0]\n",
    "    elif length==3:\n",
    "        first_last_name = splitted_last_names[0] + \" \" + splitted_last_names[1]\n",
    "    \n",
    "    return first_last_name"
   ]
  },
  {
   "cell_type": "code",
   "execution_count": 13,
   "metadata": {},
   "outputs": [],
   "source": [
    "congress_base[\"Primer Apellido\"] = congress_base[\"Apellidos\"].apply(lambda row: get_first_last_name(row))"
   ]
  },
  {
   "cell_type": "code",
   "execution_count": 14,
   "metadata": {},
   "outputs": [
    {
     "data": {
      "text/html": [
       "<div>\n",
       "<style scoped>\n",
       "    .dataframe tbody tr th:only-of-type {\n",
       "        vertical-align: middle;\n",
       "    }\n",
       "\n",
       "    .dataframe tbody tr th {\n",
       "        vertical-align: top;\n",
       "    }\n",
       "\n",
       "    .dataframe thead th {\n",
       "        text-align: right;\n",
       "    }\n",
       "</style>\n",
       "<table border=\"1\" class=\"dataframe\">\n",
       "  <thead>\n",
       "    <tr style=\"text-align: right;\">\n",
       "      <th></th>\n",
       "      <th>APELLIDOS Y NOMBRES</th>\n",
       "      <th>GRUPO PARLAMENTARIO</th>\n",
       "      <th>E-MAIL</th>\n",
       "      <th>Nombres</th>\n",
       "      <th>Primer Nombre</th>\n",
       "      <th>Segundo Nombre</th>\n",
       "      <th>Apellidos</th>\n",
       "      <th>Primer Apellido</th>\n",
       "    </tr>\n",
       "  </thead>\n",
       "  <tbody>\n",
       "    <tr>\n",
       "      <th>0</th>\n",
       "      <td>Acate Coronel Eduardo Geovanni</td>\n",
       "      <td>ALIANZA PARA EL PROGRESO</td>\n",
       "      <td>eacate@congreso.gob.pe</td>\n",
       "      <td>Geovanni Eduardo</td>\n",
       "      <td>Geovanni</td>\n",
       "      <td>Eduardo</td>\n",
       "      <td>Acate Coronel</td>\n",
       "      <td>Acate</td>\n",
       "    </tr>\n",
       "    <tr>\n",
       "      <th>1</th>\n",
       "      <td>Acuña Peralta Humberto</td>\n",
       "      <td>ALIANZA PARA EL PROGRESO</td>\n",
       "      <td>hacuna@congreso.gob.pe</td>\n",
       "      <td>Humberto</td>\n",
       "      <td>Humberto</td>\n",
       "      <td>No encontrado</td>\n",
       "      <td>Acuña Peralta</td>\n",
       "      <td>Acuña</td>\n",
       "    </tr>\n",
       "    <tr>\n",
       "      <th>2</th>\n",
       "      <td>Aguilar Zamora Manuel</td>\n",
       "      <td>ACCION POPULAR</td>\n",
       "      <td>maguilarz@congreso.gob.pe</td>\n",
       "      <td>Manuel</td>\n",
       "      <td>Manuel</td>\n",
       "      <td>No encontrado</td>\n",
       "      <td>Aguilar Zamora</td>\n",
       "      <td>Aguilar</td>\n",
       "    </tr>\n",
       "    <tr>\n",
       "      <th>3</th>\n",
       "      <td>Alarcón Tejada Edgar Arnold</td>\n",
       "      <td>UNIÓN POR EL PERÚ</td>\n",
       "      <td>ealarcont@congreso.gob.pe</td>\n",
       "      <td>Arnold Edgar</td>\n",
       "      <td>Arnold</td>\n",
       "      <td>Edgar</td>\n",
       "      <td>Alarcón Tejada</td>\n",
       "      <td>Alarcón</td>\n",
       "    </tr>\n",
       "    <tr>\n",
       "      <th>4</th>\n",
       "      <td>Alencastre Miranda Hirma Norma</td>\n",
       "      <td>SOMOS PERÚ</td>\n",
       "      <td>halencastre@congreso.gob.pe</td>\n",
       "      <td>Norma Hirma</td>\n",
       "      <td>Norma</td>\n",
       "      <td>Hirma</td>\n",
       "      <td>Alencastre Miranda</td>\n",
       "      <td>Alencastre</td>\n",
       "    </tr>\n",
       "  </tbody>\n",
       "</table>\n",
       "</div>"
      ],
      "text/plain": [
       "              APELLIDOS Y NOMBRES       GRUPO PARLAMENTARIO  \\\n",
       "0  Acate Coronel Eduardo Geovanni  ALIANZA PARA EL PROGRESO   \n",
       "1          Acuña Peralta Humberto  ALIANZA PARA EL PROGRESO   \n",
       "2           Aguilar Zamora Manuel            ACCION POPULAR   \n",
       "3     Alarcón Tejada Edgar Arnold         UNIÓN POR EL PERÚ   \n",
       "4  Alencastre Miranda Hirma Norma                SOMOS PERÚ   \n",
       "\n",
       "                        E-MAIL           Nombres Primer Nombre Segundo Nombre  \\\n",
       "0       eacate@congreso.gob.pe  Geovanni Eduardo      Geovanni        Eduardo   \n",
       "1       hacuna@congreso.gob.pe          Humberto      Humberto  No encontrado   \n",
       "2    maguilarz@congreso.gob.pe            Manuel        Manuel  No encontrado   \n",
       "3    ealarcont@congreso.gob.pe      Arnold Edgar        Arnold          Edgar   \n",
       "4  halencastre@congreso.gob.pe       Norma Hirma         Norma          Hirma   \n",
       "\n",
       "            Apellidos Primer Apellido  \n",
       "0       Acate Coronel           Acate  \n",
       "1       Acuña Peralta           Acuña  \n",
       "2      Aguilar Zamora         Aguilar  \n",
       "3      Alarcón Tejada         Alarcón  \n",
       "4  Alencastre Miranda      Alencastre  "
      ]
     },
     "execution_count": 14,
     "metadata": {},
     "output_type": "execute_result"
    }
   ],
   "source": [
    "congress_base.head()"
   ]
  },
  {
   "cell_type": "markdown",
   "metadata": {},
   "source": [
    "## Creating Full Name Ordered"
   ]
  },
  {
   "cell_type": "code",
   "execution_count": 15,
   "metadata": {},
   "outputs": [],
   "source": [
    "congress_base[\"Nombre Completo\"] = congress_base[\"Nombres\"] + \" \" + congress_base[\"Apellidos\"]"
   ]
  },
  {
   "cell_type": "code",
   "execution_count": 16,
   "metadata": {},
   "outputs": [
    {
     "data": {
      "text/html": [
       "<div>\n",
       "<style scoped>\n",
       "    .dataframe tbody tr th:only-of-type {\n",
       "        vertical-align: middle;\n",
       "    }\n",
       "\n",
       "    .dataframe tbody tr th {\n",
       "        vertical-align: top;\n",
       "    }\n",
       "\n",
       "    .dataframe thead th {\n",
       "        text-align: right;\n",
       "    }\n",
       "</style>\n",
       "<table border=\"1\" class=\"dataframe\">\n",
       "  <thead>\n",
       "    <tr style=\"text-align: right;\">\n",
       "      <th></th>\n",
       "      <th>APELLIDOS Y NOMBRES</th>\n",
       "      <th>GRUPO PARLAMENTARIO</th>\n",
       "      <th>E-MAIL</th>\n",
       "      <th>Nombres</th>\n",
       "      <th>Primer Nombre</th>\n",
       "      <th>Segundo Nombre</th>\n",
       "      <th>Apellidos</th>\n",
       "      <th>Primer Apellido</th>\n",
       "      <th>Nombre Completo</th>\n",
       "    </tr>\n",
       "  </thead>\n",
       "  <tbody>\n",
       "    <tr>\n",
       "      <th>0</th>\n",
       "      <td>Acate Coronel Eduardo Geovanni</td>\n",
       "      <td>ALIANZA PARA EL PROGRESO</td>\n",
       "      <td>eacate@congreso.gob.pe</td>\n",
       "      <td>Geovanni Eduardo</td>\n",
       "      <td>Geovanni</td>\n",
       "      <td>Eduardo</td>\n",
       "      <td>Acate Coronel</td>\n",
       "      <td>Acate</td>\n",
       "      <td>Geovanni Eduardo Acate Coronel</td>\n",
       "    </tr>\n",
       "    <tr>\n",
       "      <th>1</th>\n",
       "      <td>Acuña Peralta Humberto</td>\n",
       "      <td>ALIANZA PARA EL PROGRESO</td>\n",
       "      <td>hacuna@congreso.gob.pe</td>\n",
       "      <td>Humberto</td>\n",
       "      <td>Humberto</td>\n",
       "      <td>No encontrado</td>\n",
       "      <td>Acuña Peralta</td>\n",
       "      <td>Acuña</td>\n",
       "      <td>Humberto Acuña Peralta</td>\n",
       "    </tr>\n",
       "    <tr>\n",
       "      <th>2</th>\n",
       "      <td>Aguilar Zamora Manuel</td>\n",
       "      <td>ACCION POPULAR</td>\n",
       "      <td>maguilarz@congreso.gob.pe</td>\n",
       "      <td>Manuel</td>\n",
       "      <td>Manuel</td>\n",
       "      <td>No encontrado</td>\n",
       "      <td>Aguilar Zamora</td>\n",
       "      <td>Aguilar</td>\n",
       "      <td>Manuel Aguilar Zamora</td>\n",
       "    </tr>\n",
       "    <tr>\n",
       "      <th>3</th>\n",
       "      <td>Alarcón Tejada Edgar Arnold</td>\n",
       "      <td>UNIÓN POR EL PERÚ</td>\n",
       "      <td>ealarcont@congreso.gob.pe</td>\n",
       "      <td>Arnold Edgar</td>\n",
       "      <td>Arnold</td>\n",
       "      <td>Edgar</td>\n",
       "      <td>Alarcón Tejada</td>\n",
       "      <td>Alarcón</td>\n",
       "      <td>Arnold Edgar Alarcón Tejada</td>\n",
       "    </tr>\n",
       "    <tr>\n",
       "      <th>4</th>\n",
       "      <td>Alencastre Miranda Hirma Norma</td>\n",
       "      <td>SOMOS PERÚ</td>\n",
       "      <td>halencastre@congreso.gob.pe</td>\n",
       "      <td>Norma Hirma</td>\n",
       "      <td>Norma</td>\n",
       "      <td>Hirma</td>\n",
       "      <td>Alencastre Miranda</td>\n",
       "      <td>Alencastre</td>\n",
       "      <td>Norma Hirma Alencastre Miranda</td>\n",
       "    </tr>\n",
       "  </tbody>\n",
       "</table>\n",
       "</div>"
      ],
      "text/plain": [
       "              APELLIDOS Y NOMBRES       GRUPO PARLAMENTARIO  \\\n",
       "0  Acate Coronel Eduardo Geovanni  ALIANZA PARA EL PROGRESO   \n",
       "1          Acuña Peralta Humberto  ALIANZA PARA EL PROGRESO   \n",
       "2           Aguilar Zamora Manuel            ACCION POPULAR   \n",
       "3     Alarcón Tejada Edgar Arnold         UNIÓN POR EL PERÚ   \n",
       "4  Alencastre Miranda Hirma Norma                SOMOS PERÚ   \n",
       "\n",
       "                        E-MAIL           Nombres Primer Nombre Segundo Nombre  \\\n",
       "0       eacate@congreso.gob.pe  Geovanni Eduardo      Geovanni        Eduardo   \n",
       "1       hacuna@congreso.gob.pe          Humberto      Humberto  No encontrado   \n",
       "2    maguilarz@congreso.gob.pe            Manuel        Manuel  No encontrado   \n",
       "3    ealarcont@congreso.gob.pe      Arnold Edgar        Arnold          Edgar   \n",
       "4  halencastre@congreso.gob.pe       Norma Hirma         Norma          Hirma   \n",
       "\n",
       "            Apellidos Primer Apellido                 Nombre Completo  \n",
       "0       Acate Coronel           Acate  Geovanni Eduardo Acate Coronel  \n",
       "1       Acuña Peralta           Acuña          Humberto Acuña Peralta  \n",
       "2      Aguilar Zamora         Aguilar           Manuel Aguilar Zamora  \n",
       "3      Alarcón Tejada         Alarcón     Arnold Edgar Alarcón Tejada  \n",
       "4  Alencastre Miranda      Alencastre  Norma Hirma Alencastre Miranda  "
      ]
     },
     "execution_count": 16,
     "metadata": {},
     "output_type": "execute_result"
    }
   ],
   "source": [
    "congress_base.head()"
   ]
  },
  {
   "cell_type": "markdown",
   "metadata": {},
   "source": [
    "## Creating Full Name (Only firsts F and L Names)"
   ]
  },
  {
   "cell_type": "code",
   "execution_count": 17,
   "metadata": {},
   "outputs": [],
   "source": [
    "congress_base[\"Nombre Completo (F)\"] = congress_base[\"Primer Nombre\"] + \" \" + congress_base[\"Primer Apellido\"]"
   ]
  },
  {
   "cell_type": "code",
   "execution_count": 18,
   "metadata": {
    "scrolled": true
   },
   "outputs": [
    {
     "data": {
      "text/html": [
       "<div>\n",
       "<style scoped>\n",
       "    .dataframe tbody tr th:only-of-type {\n",
       "        vertical-align: middle;\n",
       "    }\n",
       "\n",
       "    .dataframe tbody tr th {\n",
       "        vertical-align: top;\n",
       "    }\n",
       "\n",
       "    .dataframe thead th {\n",
       "        text-align: right;\n",
       "    }\n",
       "</style>\n",
       "<table border=\"1\" class=\"dataframe\">\n",
       "  <thead>\n",
       "    <tr style=\"text-align: right;\">\n",
       "      <th></th>\n",
       "      <th>APELLIDOS Y NOMBRES</th>\n",
       "      <th>GRUPO PARLAMENTARIO</th>\n",
       "      <th>E-MAIL</th>\n",
       "      <th>Nombres</th>\n",
       "      <th>Primer Nombre</th>\n",
       "      <th>Segundo Nombre</th>\n",
       "      <th>Apellidos</th>\n",
       "      <th>Primer Apellido</th>\n",
       "      <th>Nombre Completo</th>\n",
       "      <th>Nombre Completo (F)</th>\n",
       "    </tr>\n",
       "  </thead>\n",
       "  <tbody>\n",
       "    <tr>\n",
       "      <th>0</th>\n",
       "      <td>Acate Coronel Eduardo Geovanni</td>\n",
       "      <td>ALIANZA PARA EL PROGRESO</td>\n",
       "      <td>eacate@congreso.gob.pe</td>\n",
       "      <td>Geovanni Eduardo</td>\n",
       "      <td>Geovanni</td>\n",
       "      <td>Eduardo</td>\n",
       "      <td>Acate Coronel</td>\n",
       "      <td>Acate</td>\n",
       "      <td>Geovanni Eduardo Acate Coronel</td>\n",
       "      <td>Geovanni Acate</td>\n",
       "    </tr>\n",
       "    <tr>\n",
       "      <th>1</th>\n",
       "      <td>Acuña Peralta Humberto</td>\n",
       "      <td>ALIANZA PARA EL PROGRESO</td>\n",
       "      <td>hacuna@congreso.gob.pe</td>\n",
       "      <td>Humberto</td>\n",
       "      <td>Humberto</td>\n",
       "      <td>No encontrado</td>\n",
       "      <td>Acuña Peralta</td>\n",
       "      <td>Acuña</td>\n",
       "      <td>Humberto Acuña Peralta</td>\n",
       "      <td>Humberto Acuña</td>\n",
       "    </tr>\n",
       "    <tr>\n",
       "      <th>2</th>\n",
       "      <td>Aguilar Zamora Manuel</td>\n",
       "      <td>ACCION POPULAR</td>\n",
       "      <td>maguilarz@congreso.gob.pe</td>\n",
       "      <td>Manuel</td>\n",
       "      <td>Manuel</td>\n",
       "      <td>No encontrado</td>\n",
       "      <td>Aguilar Zamora</td>\n",
       "      <td>Aguilar</td>\n",
       "      <td>Manuel Aguilar Zamora</td>\n",
       "      <td>Manuel Aguilar</td>\n",
       "    </tr>\n",
       "    <tr>\n",
       "      <th>3</th>\n",
       "      <td>Alarcón Tejada Edgar Arnold</td>\n",
       "      <td>UNIÓN POR EL PERÚ</td>\n",
       "      <td>ealarcont@congreso.gob.pe</td>\n",
       "      <td>Arnold Edgar</td>\n",
       "      <td>Arnold</td>\n",
       "      <td>Edgar</td>\n",
       "      <td>Alarcón Tejada</td>\n",
       "      <td>Alarcón</td>\n",
       "      <td>Arnold Edgar Alarcón Tejada</td>\n",
       "      <td>Arnold Alarcón</td>\n",
       "    </tr>\n",
       "    <tr>\n",
       "      <th>4</th>\n",
       "      <td>Alencastre Miranda Hirma Norma</td>\n",
       "      <td>SOMOS PERÚ</td>\n",
       "      <td>halencastre@congreso.gob.pe</td>\n",
       "      <td>Norma Hirma</td>\n",
       "      <td>Norma</td>\n",
       "      <td>Hirma</td>\n",
       "      <td>Alencastre Miranda</td>\n",
       "      <td>Alencastre</td>\n",
       "      <td>Norma Hirma Alencastre Miranda</td>\n",
       "      <td>Norma Alencastre</td>\n",
       "    </tr>\n",
       "  </tbody>\n",
       "</table>\n",
       "</div>"
      ],
      "text/plain": [
       "              APELLIDOS Y NOMBRES       GRUPO PARLAMENTARIO  \\\n",
       "0  Acate Coronel Eduardo Geovanni  ALIANZA PARA EL PROGRESO   \n",
       "1          Acuña Peralta Humberto  ALIANZA PARA EL PROGRESO   \n",
       "2           Aguilar Zamora Manuel            ACCION POPULAR   \n",
       "3     Alarcón Tejada Edgar Arnold         UNIÓN POR EL PERÚ   \n",
       "4  Alencastre Miranda Hirma Norma                SOMOS PERÚ   \n",
       "\n",
       "                        E-MAIL           Nombres Primer Nombre Segundo Nombre  \\\n",
       "0       eacate@congreso.gob.pe  Geovanni Eduardo      Geovanni        Eduardo   \n",
       "1       hacuna@congreso.gob.pe          Humberto      Humberto  No encontrado   \n",
       "2    maguilarz@congreso.gob.pe            Manuel        Manuel  No encontrado   \n",
       "3    ealarcont@congreso.gob.pe      Arnold Edgar        Arnold          Edgar   \n",
       "4  halencastre@congreso.gob.pe       Norma Hirma         Norma          Hirma   \n",
       "\n",
       "            Apellidos Primer Apellido                 Nombre Completo  \\\n",
       "0       Acate Coronel           Acate  Geovanni Eduardo Acate Coronel   \n",
       "1       Acuña Peralta           Acuña          Humberto Acuña Peralta   \n",
       "2      Aguilar Zamora         Aguilar           Manuel Aguilar Zamora   \n",
       "3      Alarcón Tejada         Alarcón     Arnold Edgar Alarcón Tejada   \n",
       "4  Alencastre Miranda      Alencastre  Norma Hirma Alencastre Miranda   \n",
       "\n",
       "  Nombre Completo (F)  \n",
       "0      Geovanni Acate  \n",
       "1      Humberto Acuña  \n",
       "2      Manuel Aguilar  \n",
       "3      Arnold Alarcón  \n",
       "4    Norma Alencastre  "
      ]
     },
     "execution_count": 18,
     "metadata": {},
     "output_type": "execute_result"
    }
   ],
   "source": [
    "congress_base.head()"
   ]
  },
  {
   "cell_type": "markdown",
   "metadata": {},
   "source": [
    "## Creating Full Name (First F and Full L Names)"
   ]
  },
  {
   "cell_type": "code",
   "execution_count": 19,
   "metadata": {},
   "outputs": [],
   "source": [
    "congress_base[\"Nombre Completo (FFL)\"] = congress_base[\"Primer Nombre\"] + \" \" + congress_base[\"Apellidos\"]"
   ]
  },
  {
   "cell_type": "code",
   "execution_count": 20,
   "metadata": {
    "scrolled": true
   },
   "outputs": [
    {
     "data": {
      "text/html": [
       "<div>\n",
       "<style scoped>\n",
       "    .dataframe tbody tr th:only-of-type {\n",
       "        vertical-align: middle;\n",
       "    }\n",
       "\n",
       "    .dataframe tbody tr th {\n",
       "        vertical-align: top;\n",
       "    }\n",
       "\n",
       "    .dataframe thead th {\n",
       "        text-align: right;\n",
       "    }\n",
       "</style>\n",
       "<table border=\"1\" class=\"dataframe\">\n",
       "  <thead>\n",
       "    <tr style=\"text-align: right;\">\n",
       "      <th></th>\n",
       "      <th>APELLIDOS Y NOMBRES</th>\n",
       "      <th>GRUPO PARLAMENTARIO</th>\n",
       "      <th>E-MAIL</th>\n",
       "      <th>Nombres</th>\n",
       "      <th>Primer Nombre</th>\n",
       "      <th>Segundo Nombre</th>\n",
       "      <th>Apellidos</th>\n",
       "      <th>Primer Apellido</th>\n",
       "      <th>Nombre Completo</th>\n",
       "      <th>Nombre Completo (F)</th>\n",
       "      <th>Nombre Completo (FFL)</th>\n",
       "    </tr>\n",
       "  </thead>\n",
       "  <tbody>\n",
       "    <tr>\n",
       "      <th>0</th>\n",
       "      <td>Acate Coronel Eduardo Geovanni</td>\n",
       "      <td>ALIANZA PARA EL PROGRESO</td>\n",
       "      <td>eacate@congreso.gob.pe</td>\n",
       "      <td>Geovanni Eduardo</td>\n",
       "      <td>Geovanni</td>\n",
       "      <td>Eduardo</td>\n",
       "      <td>Acate Coronel</td>\n",
       "      <td>Acate</td>\n",
       "      <td>Geovanni Eduardo Acate Coronel</td>\n",
       "      <td>Geovanni Acate</td>\n",
       "      <td>Geovanni Acate Coronel</td>\n",
       "    </tr>\n",
       "    <tr>\n",
       "      <th>1</th>\n",
       "      <td>Acuña Peralta Humberto</td>\n",
       "      <td>ALIANZA PARA EL PROGRESO</td>\n",
       "      <td>hacuna@congreso.gob.pe</td>\n",
       "      <td>Humberto</td>\n",
       "      <td>Humberto</td>\n",
       "      <td>No encontrado</td>\n",
       "      <td>Acuña Peralta</td>\n",
       "      <td>Acuña</td>\n",
       "      <td>Humberto Acuña Peralta</td>\n",
       "      <td>Humberto Acuña</td>\n",
       "      <td>Humberto Acuña Peralta</td>\n",
       "    </tr>\n",
       "    <tr>\n",
       "      <th>2</th>\n",
       "      <td>Aguilar Zamora Manuel</td>\n",
       "      <td>ACCION POPULAR</td>\n",
       "      <td>maguilarz@congreso.gob.pe</td>\n",
       "      <td>Manuel</td>\n",
       "      <td>Manuel</td>\n",
       "      <td>No encontrado</td>\n",
       "      <td>Aguilar Zamora</td>\n",
       "      <td>Aguilar</td>\n",
       "      <td>Manuel Aguilar Zamora</td>\n",
       "      <td>Manuel Aguilar</td>\n",
       "      <td>Manuel Aguilar Zamora</td>\n",
       "    </tr>\n",
       "    <tr>\n",
       "      <th>3</th>\n",
       "      <td>Alarcón Tejada Edgar Arnold</td>\n",
       "      <td>UNIÓN POR EL PERÚ</td>\n",
       "      <td>ealarcont@congreso.gob.pe</td>\n",
       "      <td>Arnold Edgar</td>\n",
       "      <td>Arnold</td>\n",
       "      <td>Edgar</td>\n",
       "      <td>Alarcón Tejada</td>\n",
       "      <td>Alarcón</td>\n",
       "      <td>Arnold Edgar Alarcón Tejada</td>\n",
       "      <td>Arnold Alarcón</td>\n",
       "      <td>Arnold Alarcón Tejada</td>\n",
       "    </tr>\n",
       "    <tr>\n",
       "      <th>4</th>\n",
       "      <td>Alencastre Miranda Hirma Norma</td>\n",
       "      <td>SOMOS PERÚ</td>\n",
       "      <td>halencastre@congreso.gob.pe</td>\n",
       "      <td>Norma Hirma</td>\n",
       "      <td>Norma</td>\n",
       "      <td>Hirma</td>\n",
       "      <td>Alencastre Miranda</td>\n",
       "      <td>Alencastre</td>\n",
       "      <td>Norma Hirma Alencastre Miranda</td>\n",
       "      <td>Norma Alencastre</td>\n",
       "      <td>Norma Alencastre Miranda</td>\n",
       "    </tr>\n",
       "  </tbody>\n",
       "</table>\n",
       "</div>"
      ],
      "text/plain": [
       "              APELLIDOS Y NOMBRES       GRUPO PARLAMENTARIO  \\\n",
       "0  Acate Coronel Eduardo Geovanni  ALIANZA PARA EL PROGRESO   \n",
       "1          Acuña Peralta Humberto  ALIANZA PARA EL PROGRESO   \n",
       "2           Aguilar Zamora Manuel            ACCION POPULAR   \n",
       "3     Alarcón Tejada Edgar Arnold         UNIÓN POR EL PERÚ   \n",
       "4  Alencastre Miranda Hirma Norma                SOMOS PERÚ   \n",
       "\n",
       "                        E-MAIL           Nombres Primer Nombre Segundo Nombre  \\\n",
       "0       eacate@congreso.gob.pe  Geovanni Eduardo      Geovanni        Eduardo   \n",
       "1       hacuna@congreso.gob.pe          Humberto      Humberto  No encontrado   \n",
       "2    maguilarz@congreso.gob.pe            Manuel        Manuel  No encontrado   \n",
       "3    ealarcont@congreso.gob.pe      Arnold Edgar        Arnold          Edgar   \n",
       "4  halencastre@congreso.gob.pe       Norma Hirma         Norma          Hirma   \n",
       "\n",
       "            Apellidos Primer Apellido                 Nombre Completo  \\\n",
       "0       Acate Coronel           Acate  Geovanni Eduardo Acate Coronel   \n",
       "1       Acuña Peralta           Acuña          Humberto Acuña Peralta   \n",
       "2      Aguilar Zamora         Aguilar           Manuel Aguilar Zamora   \n",
       "3      Alarcón Tejada         Alarcón     Arnold Edgar Alarcón Tejada   \n",
       "4  Alencastre Miranda      Alencastre  Norma Hirma Alencastre Miranda   \n",
       "\n",
       "  Nombre Completo (F)     Nombre Completo (FFL)  \n",
       "0      Geovanni Acate    Geovanni Acate Coronel  \n",
       "1      Humberto Acuña    Humberto Acuña Peralta  \n",
       "2      Manuel Aguilar     Manuel Aguilar Zamora  \n",
       "3      Arnold Alarcón     Arnold Alarcón Tejada  \n",
       "4    Norma Alencastre  Norma Alencastre Miranda  "
      ]
     },
     "execution_count": 20,
     "metadata": {},
     "output_type": "execute_result"
    }
   ],
   "source": [
    "congress_base.head()"
   ]
  },
  {
   "cell_type": "markdown",
   "metadata": {},
   "source": [
    "# Creating Full Name (2nd F and 1st L Name)"
   ]
  },
  {
   "cell_type": "code",
   "execution_count": 21,
   "metadata": {},
   "outputs": [],
   "source": [
    "congress_base[\"Nombre Completo (2F1L)\"] = congress_base[\"Primer Nombre\"] + \" \" + congress_base[\"Apellidos\"]"
   ]
  },
  {
   "cell_type": "markdown",
   "metadata": {},
   "source": [
    "# Calling our twitter API"
   ]
  },
  {
   "cell_type": "code",
   "execution_count": 22,
   "metadata": {},
   "outputs": [],
   "source": [
    "api = twitter.Api(consumer_key=os.environ.get('consumer_key_twt'),\n",
    "                  consumer_secret=os.environ.get('consumer_secret_twt'),\n",
    "                  access_token_key=os.environ.get('access_token_key_twt'),\n",
    "                  access_token_secret=os.environ.get('access_token_secret_twt'))"
   ]
  },
  {
   "cell_type": "markdown",
   "metadata": {},
   "source": [
    "# Scraping user names"
   ]
  },
  {
   "cell_type": "markdown",
   "metadata": {},
   "source": [
    "Because the first result may not be the actual account, we'll compare the first results when scraping with their full names and only with the 'first' first and last name"
   ]
  },
  {
   "cell_type": "code",
   "execution_count": 23,
   "metadata": {},
   "outputs": [],
   "source": [
    "def get_user_name(real_name, max_nmb_users, desired_user):\n",
    "    \"\"\"\n",
    "    Gets the user name of a person\n",
    "    \n",
    "    Input: real name, max number of users to be looked for, number of desired result (from 1 to max_nmb_users)\n",
    "    Output: twitter accounts \n",
    "    \"\"\"\n",
    "    users = api.GetUsersSearch(term=real_name, count=max_nmb_users)\n",
    "    nmb_users_found = len(users)\n",
    "    \n",
    "    if nmb_users_found==0:\n",
    "        return \"No encontrado\"\n",
    "    elif nmb_users_found>0:\n",
    "        if desired_user<=nmb_users_found and desired_user>0: # if desired user is in range\n",
    "            return users[desired_user-1].screen_name\n",
    "        \n",
    "        elif desired_user>nmb_users_found: #if out of range\n",
    "            return \"Fuera de rango\"\n",
    "        \n",
    "        else:\n",
    "            print(\"Invalid value inputed. Input a positive integer (greater than 0)\")"
   ]
  },
  {
   "cell_type": "markdown",
   "metadata": {},
   "source": [
    "### Twitter Username (Full Name)"
   ]
  },
  {
   "cell_type": "code",
   "execution_count": 24,
   "metadata": {},
   "outputs": [],
   "source": [
    "congress_base['Usuario de Twitter (1st FullN)'] = congress_base[\"Nombre Completo\"].apply(lambda row: get_user_name(row, 3, 1))"
   ]
  },
  {
   "cell_type": "markdown",
   "metadata": {},
   "source": [
    "### Twitter Username (First Names)"
   ]
  },
  {
   "cell_type": "code",
   "execution_count": 25,
   "metadata": {},
   "outputs": [],
   "source": [
    "congress_base['Usuario de Twitter (1st FirstN)'] = congress_base[\"Nombre Completo (F)\"].apply(lambda row: get_user_name(row, 3, 1))"
   ]
  },
  {
   "cell_type": "markdown",
   "metadata": {},
   "source": [
    "### Twitter Username (First + Full Lastnames)"
   ]
  },
  {
   "cell_type": "code",
   "execution_count": 26,
   "metadata": {},
   "outputs": [],
   "source": [
    "congress_base['Usuario de Twitter (1st FirstN FullL)'] = congress_base[\"Nombre Completo (FFL)\"].apply(lambda row: get_user_name(row, 3, 1))"
   ]
  },
  {
   "cell_type": "markdown",
   "metadata": {},
   "source": [
    "### Twitter Username (Second First + First Lastnames)"
   ]
  },
  {
   "cell_type": "code",
   "execution_count": 27,
   "metadata": {},
   "outputs": [],
   "source": [
    "congress_base['Nombre Completo (SFFL)'] = congress_base['Segundo Nombre'] + \" \" + congress_base['Primer Apellido']"
   ]
  },
  {
   "cell_type": "code",
   "execution_count": 28,
   "metadata": {},
   "outputs": [],
   "source": [
    "congress_base['Usuario de Twitter (2nd FirstN FirstL)'] = congress_base[\"Nombre Completo (SFFL)\"].apply(lambda row: get_user_name(row, 3, 1))"
   ]
  },
  {
   "cell_type": "markdown",
   "metadata": {},
   "source": [
    "## Twitter Usernames (Second result)"
   ]
  },
  {
   "cell_type": "markdown",
   "metadata": {},
   "source": [
    "### Twitter Username (Full Name)"
   ]
  },
  {
   "cell_type": "code",
   "execution_count": 30,
   "metadata": {},
   "outputs": [],
   "source": [
    "congress_base['Usuario de Twitter (1st FullN) 2'] = congress_base[\"Nombre Completo\"].apply(lambda row: get_user_name(row, 2, 2))"
   ]
  },
  {
   "cell_type": "markdown",
   "metadata": {},
   "source": [
    "### Twitter Username (First Names)"
   ]
  },
  {
   "cell_type": "code",
   "execution_count": 31,
   "metadata": {},
   "outputs": [],
   "source": [
    "congress_base['Usuario de Twitter (1st FirstN) 2'] = congress_base[\"Nombre Completo (F)\"].apply(lambda row: get_user_name(row, 2, 2))"
   ]
  },
  {
   "cell_type": "markdown",
   "metadata": {},
   "source": [
    "### Twitter Username (First + Full Lastnames)"
   ]
  },
  {
   "cell_type": "code",
   "execution_count": 32,
   "metadata": {},
   "outputs": [],
   "source": [
    "congress_base['Usuario de Twitter (1st FirstN FullL) 2'] = congress_base[\"Nombre Completo (FFL)\"].apply(lambda row: get_user_name(row, 2, 2))"
   ]
  },
  {
   "cell_type": "markdown",
   "metadata": {},
   "source": [
    "### Twitter Username (Second First + First Lastnames)"
   ]
  },
  {
   "cell_type": "code",
   "execution_count": 33,
   "metadata": {},
   "outputs": [],
   "source": [
    "congress_base['Usuario de Twitter (2nd FirstN FirstL) 2'] = congress_base[\"Nombre Completo (SFFL)\"].apply(lambda row: get_user_name(row, 2, 2))"
   ]
  },
  {
   "cell_type": "code",
   "execution_count": 35,
   "metadata": {
    "scrolled": true
   },
   "outputs": [
    {
     "data": {
      "text/html": [
       "<div>\n",
       "<style scoped>\n",
       "    .dataframe tbody tr th:only-of-type {\n",
       "        vertical-align: middle;\n",
       "    }\n",
       "\n",
       "    .dataframe tbody tr th {\n",
       "        vertical-align: top;\n",
       "    }\n",
       "\n",
       "    .dataframe thead th {\n",
       "        text-align: right;\n",
       "    }\n",
       "</style>\n",
       "<table border=\"1\" class=\"dataframe\">\n",
       "  <thead>\n",
       "    <tr style=\"text-align: right;\">\n",
       "      <th></th>\n",
       "      <th>APELLIDOS Y NOMBRES</th>\n",
       "      <th>GRUPO PARLAMENTARIO</th>\n",
       "      <th>E-MAIL</th>\n",
       "      <th>Nombres</th>\n",
       "      <th>Primer Nombre</th>\n",
       "      <th>Segundo Nombre</th>\n",
       "      <th>Apellidos</th>\n",
       "      <th>Primer Apellido</th>\n",
       "      <th>Nombre Completo</th>\n",
       "      <th>Nombre Completo (F)</th>\n",
       "      <th>...</th>\n",
       "      <th>Nombre Completo (2F1L)</th>\n",
       "      <th>Usuario de Twitter (1st FullN)</th>\n",
       "      <th>Usuario de Twitter (1st FirstN)</th>\n",
       "      <th>Usuario de Twitter (1st FirstN FullL)</th>\n",
       "      <th>Nombre Completo (SFFL)</th>\n",
       "      <th>Usuario de Twitter (2nd FirstN FirstL)</th>\n",
       "      <th>Usuario de Twitter (1st FullN) 2</th>\n",
       "      <th>Usuario de Twitter (1st FirstN) 2</th>\n",
       "      <th>Usuario de Twitter (1st FirstN FullL) 2</th>\n",
       "      <th>Usuario de Twitter (2nd FirstN FirstL) 2</th>\n",
       "    </tr>\n",
       "  </thead>\n",
       "  <tbody>\n",
       "    <tr>\n",
       "      <th>0</th>\n",
       "      <td>Acate Coronel Eduardo Geovanni</td>\n",
       "      <td>ALIANZA PARA EL PROGRESO</td>\n",
       "      <td>eacate@congreso.gob.pe</td>\n",
       "      <td>Geovanni Eduardo</td>\n",
       "      <td>Geovanni</td>\n",
       "      <td>Eduardo</td>\n",
       "      <td>Acate Coronel</td>\n",
       "      <td>Acate</td>\n",
       "      <td>Geovanni Eduardo Acate Coronel</td>\n",
       "      <td>Geovanni Acate</td>\n",
       "      <td>...</td>\n",
       "      <td>Geovanni Acate Coronel</td>\n",
       "      <td>No encontrado</td>\n",
       "      <td>geovanniacate</td>\n",
       "      <td>No encontrado</td>\n",
       "      <td>Eduardo Acate</td>\n",
       "      <td>No encontrado</td>\n",
       "      <td>No encontrado</td>\n",
       "      <td>Fuera de rango</td>\n",
       "      <td>No encontrado</td>\n",
       "      <td>No encontrado</td>\n",
       "    </tr>\n",
       "    <tr>\n",
       "      <th>1</th>\n",
       "      <td>Acuña Peralta Humberto</td>\n",
       "      <td>ALIANZA PARA EL PROGRESO</td>\n",
       "      <td>hacuna@congreso.gob.pe</td>\n",
       "      <td>Humberto</td>\n",
       "      <td>Humberto</td>\n",
       "      <td>No encontrado</td>\n",
       "      <td>Acuña Peralta</td>\n",
       "      <td>Acuña</td>\n",
       "      <td>Humberto Acuña Peralta</td>\n",
       "      <td>Humberto Acuña</td>\n",
       "      <td>...</td>\n",
       "      <td>Humberto Acuña Peralta</td>\n",
       "      <td>HumbertoAcunaP</td>\n",
       "      <td>HumbertoAcunaP</td>\n",
       "      <td>HumbertoAcunaP</td>\n",
       "      <td>No encontrado Acuña</td>\n",
       "      <td>No encontrado</td>\n",
       "      <td>humberto_ap</td>\n",
       "      <td>huacuna</td>\n",
       "      <td>humberto_ap</td>\n",
       "      <td>No encontrado</td>\n",
       "    </tr>\n",
       "    <tr>\n",
       "      <th>2</th>\n",
       "      <td>Aguilar Zamora Manuel</td>\n",
       "      <td>ACCION POPULAR</td>\n",
       "      <td>maguilarz@congreso.gob.pe</td>\n",
       "      <td>Manuel</td>\n",
       "      <td>Manuel</td>\n",
       "      <td>No encontrado</td>\n",
       "      <td>Aguilar Zamora</td>\n",
       "      <td>Aguilar</td>\n",
       "      <td>Manuel Aguilar Zamora</td>\n",
       "      <td>Manuel Aguilar</td>\n",
       "      <td>...</td>\n",
       "      <td>Manuel Aguilar Zamora</td>\n",
       "      <td>JosManu41917702</td>\n",
       "      <td>Manuelsv</td>\n",
       "      <td>JosManu41917702</td>\n",
       "      <td>No encontrado Aguilar</td>\n",
       "      <td>No encontrado</td>\n",
       "      <td>ManuelAguilarz1</td>\n",
       "      <td>cornellius</td>\n",
       "      <td>ManuelAguilarz1</td>\n",
       "      <td>No encontrado</td>\n",
       "    </tr>\n",
       "    <tr>\n",
       "      <th>3</th>\n",
       "      <td>Alarcón Tejada Edgar Arnold</td>\n",
       "      <td>UNIÓN POR EL PERÚ</td>\n",
       "      <td>ealarcont@congreso.gob.pe</td>\n",
       "      <td>Arnold Edgar</td>\n",
       "      <td>Arnold</td>\n",
       "      <td>Edgar</td>\n",
       "      <td>Alarcón Tejada</td>\n",
       "      <td>Alarcón</td>\n",
       "      <td>Arnold Edgar Alarcón Tejada</td>\n",
       "      <td>Arnold Alarcón</td>\n",
       "      <td>...</td>\n",
       "      <td>Arnold Alarcón Tejada</td>\n",
       "      <td>No encontrado</td>\n",
       "      <td>LobitoDenis</td>\n",
       "      <td>No encontrado</td>\n",
       "      <td>Edgar Alarcón</td>\n",
       "      <td>Edgarchaeology</td>\n",
       "      <td>No encontrado</td>\n",
       "      <td>ArnoldAlarcon1</td>\n",
       "      <td>No encontrado</td>\n",
       "      <td>EdgarAlarconT</td>\n",
       "    </tr>\n",
       "    <tr>\n",
       "      <th>4</th>\n",
       "      <td>Alencastre Miranda Hirma Norma</td>\n",
       "      <td>SOMOS PERÚ</td>\n",
       "      <td>halencastre@congreso.gob.pe</td>\n",
       "      <td>Norma Hirma</td>\n",
       "      <td>Norma</td>\n",
       "      <td>Hirma</td>\n",
       "      <td>Alencastre Miranda</td>\n",
       "      <td>Alencastre</td>\n",
       "      <td>Norma Hirma Alencastre Miranda</td>\n",
       "      <td>Norma Alencastre</td>\n",
       "      <td>...</td>\n",
       "      <td>Norma Alencastre Miranda</td>\n",
       "      <td>No encontrado</td>\n",
       "      <td>NormaAlencastre</td>\n",
       "      <td>No encontrado</td>\n",
       "      <td>Hirma Alencastre</td>\n",
       "      <td>No encontrado</td>\n",
       "      <td>No encontrado</td>\n",
       "      <td>noalro_5</td>\n",
       "      <td>No encontrado</td>\n",
       "      <td>No encontrado</td>\n",
       "    </tr>\n",
       "  </tbody>\n",
       "</table>\n",
       "<p>5 rows × 21 columns</p>\n",
       "</div>"
      ],
      "text/plain": [
       "              APELLIDOS Y NOMBRES       GRUPO PARLAMENTARIO  \\\n",
       "0  Acate Coronel Eduardo Geovanni  ALIANZA PARA EL PROGRESO   \n",
       "1          Acuña Peralta Humberto  ALIANZA PARA EL PROGRESO   \n",
       "2           Aguilar Zamora Manuel            ACCION POPULAR   \n",
       "3     Alarcón Tejada Edgar Arnold         UNIÓN POR EL PERÚ   \n",
       "4  Alencastre Miranda Hirma Norma                SOMOS PERÚ   \n",
       "\n",
       "                        E-MAIL           Nombres Primer Nombre Segundo Nombre  \\\n",
       "0       eacate@congreso.gob.pe  Geovanni Eduardo      Geovanni        Eduardo   \n",
       "1       hacuna@congreso.gob.pe          Humberto      Humberto  No encontrado   \n",
       "2    maguilarz@congreso.gob.pe            Manuel        Manuel  No encontrado   \n",
       "3    ealarcont@congreso.gob.pe      Arnold Edgar        Arnold          Edgar   \n",
       "4  halencastre@congreso.gob.pe       Norma Hirma         Norma          Hirma   \n",
       "\n",
       "            Apellidos Primer Apellido                 Nombre Completo  \\\n",
       "0       Acate Coronel           Acate  Geovanni Eduardo Acate Coronel   \n",
       "1       Acuña Peralta           Acuña          Humberto Acuña Peralta   \n",
       "2      Aguilar Zamora         Aguilar           Manuel Aguilar Zamora   \n",
       "3      Alarcón Tejada         Alarcón     Arnold Edgar Alarcón Tejada   \n",
       "4  Alencastre Miranda      Alencastre  Norma Hirma Alencastre Miranda   \n",
       "\n",
       "  Nombre Completo (F)  ...    Nombre Completo (2F1L)  \\\n",
       "0      Geovanni Acate  ...    Geovanni Acate Coronel   \n",
       "1      Humberto Acuña  ...    Humberto Acuña Peralta   \n",
       "2      Manuel Aguilar  ...     Manuel Aguilar Zamora   \n",
       "3      Arnold Alarcón  ...     Arnold Alarcón Tejada   \n",
       "4    Norma Alencastre  ...  Norma Alencastre Miranda   \n",
       "\n",
       "  Usuario de Twitter (1st FullN) Usuario de Twitter (1st FirstN)  \\\n",
       "0                  No encontrado                   geovanniacate   \n",
       "1                 HumbertoAcunaP                  HumbertoAcunaP   \n",
       "2                JosManu41917702                        Manuelsv   \n",
       "3                  No encontrado                     LobitoDenis   \n",
       "4                  No encontrado                 NormaAlencastre   \n",
       "\n",
       "  Usuario de Twitter (1st FirstN FullL) Nombre Completo (SFFL)  \\\n",
       "0                         No encontrado          Eduardo Acate   \n",
       "1                        HumbertoAcunaP    No encontrado Acuña   \n",
       "2                       JosManu41917702  No encontrado Aguilar   \n",
       "3                         No encontrado          Edgar Alarcón   \n",
       "4                         No encontrado       Hirma Alencastre   \n",
       "\n",
       "  Usuario de Twitter (2nd FirstN FirstL) Usuario de Twitter (1st FullN) 2  \\\n",
       "0                          No encontrado                    No encontrado   \n",
       "1                          No encontrado                      humberto_ap   \n",
       "2                          No encontrado                  ManuelAguilarz1   \n",
       "3                         Edgarchaeology                    No encontrado   \n",
       "4                          No encontrado                    No encontrado   \n",
       "\n",
       "  Usuario de Twitter (1st FirstN) 2 Usuario de Twitter (1st FirstN FullL) 2  \\\n",
       "0                    Fuera de rango                           No encontrado   \n",
       "1                           huacuna                             humberto_ap   \n",
       "2                        cornellius                         ManuelAguilarz1   \n",
       "3                    ArnoldAlarcon1                           No encontrado   \n",
       "4                          noalro_5                           No encontrado   \n",
       "\n",
       "  Usuario de Twitter (2nd FirstN FirstL) 2  \n",
       "0                            No encontrado  \n",
       "1                            No encontrado  \n",
       "2                            No encontrado  \n",
       "3                            EdgarAlarconT  \n",
       "4                            No encontrado  \n",
       "\n",
       "[5 rows x 21 columns]"
      ]
     },
     "execution_count": 35,
     "metadata": {},
     "output_type": "execute_result"
    }
   ],
   "source": [
    "congress_base.head()"
   ]
  },
  {
   "cell_type": "markdown",
   "metadata": {},
   "source": [
    "# List of names"
   ]
  },
  {
   "cell_type": "code",
   "execution_count": 36,
   "metadata": {},
   "outputs": [],
   "source": [
    "list_of_names = [\"Nombre Completo\", \"Nombre Completo (F)\", \"Nombre Completo (FFL)\", \"Nombre Completo (SFFL)\"]"
   ]
  },
  {
   "cell_type": "markdown",
   "metadata": {},
   "source": [
    "# List of scrapes done"
   ]
  },
  {
   "cell_type": "code",
   "execution_count": 37,
   "metadata": {},
   "outputs": [],
   "source": [
    "list_of_scrapes = [\"(1st FullN)\", \"(1st FirstN)\", \"(1st FirstN FullL)\", \"(2nd FirstN FirstL)\", \"(1st FullN) 2\", \"(1st FirstN) 2\", \"(1st FirstN FullL) 2\", \"(2nd FirstN FirstL) 2\"]"
   ]
  },
  {
   "cell_type": "markdown",
   "metadata": {},
   "source": [
    "# Combined list"
   ]
  },
  {
   "cell_type": "code",
   "execution_count": 38,
   "metadata": {},
   "outputs": [],
   "source": [
    "first_combined_list = list(zip(list_of_names, list_of_scrapes)) # first users\n",
    "second_combined_list = list(zip(list_of_names, list_of_scrapes[int(len(list_of_scrapes)/2):]))# second users"
   ]
  },
  {
   "cell_type": "markdown",
   "metadata": {},
   "source": [
    "# Extracting descriptions of each account"
   ]
  },
  {
   "cell_type": "code",
   "execution_count": 39,
   "metadata": {},
   "outputs": [],
   "source": [
    "def getting_descriptions(user_name):\n",
    "    \n",
    "    if user_name != \"No encontrado\" and user_name != \"Fuera de rango\":\n",
    "        user = api.GetUsersSearch(term=user_name)\n",
    "        if len(user)>0:\n",
    "            return user[0].description\n",
    "        else:\n",
    "            return \"Usuario Abandonado\"\n",
    "    else:\n",
    "        return \"No encontrado\"\n",
    "        "
   ]
  },
  {
   "cell_type": "markdown",
   "metadata": {},
   "source": [
    "## Scraping first user's descriptions"
   ]
  },
  {
   "cell_type": "code",
   "execution_count": 41,
   "metadata": {},
   "outputs": [],
   "source": [
    "for item in first_combined_list:\n",
    "    congress_base[f\"description {item[1]}\"] = congress_base[f\"{item[0]}\"].apply(lambda row: getting_descriptions(row))"
   ]
  },
  {
   "cell_type": "markdown",
   "metadata": {},
   "source": [
    "## Scraping second user's descriptions"
   ]
  },
  {
   "cell_type": "code",
   "execution_count": 44,
   "metadata": {},
   "outputs": [],
   "source": [
    "for item in second_combined_list:\n",
    "    congress_base[f\"description {item[1]}\"] = congress_base[f\"{item[0]}\"].apply(lambda row: getting_descriptions(row))"
   ]
  },
  {
   "cell_type": "markdown",
   "metadata": {},
   "source": [
    "# Saving a base version of the db (as a checkpoint)"
   ]
  },
  {
   "cell_type": "code",
   "execution_count": 74,
   "metadata": {},
   "outputs": [
    {
     "name": "stderr",
     "output_type": "stream",
     "text": [
      "D:\\Anaconda5.2.0\\lib\\site-packages\\pandas\\compat\\_optional.py:106: UserWarning: Pandas requires version '0.9.8' or newer of 'xlsxwriter' (version '0.9.3' currently installed).\n",
      "  warnings.warn(msg, UserWarning)\n"
     ]
    }
   ],
   "source": [
    "# congress_base.to_excel(\"congress_base.xlsx\")"
   ]
  },
  {
   "cell_type": "markdown",
   "metadata": {},
   "source": [
    "# Scraping tweets"
   ]
  },
  {
   "cell_type": "code",
   "execution_count": 61,
   "metadata": {},
   "outputs": [],
   "source": [
    "def getting_tweets(user_name):\n",
    "    \n",
    "    if user_name != \"No encontrado\" and user_name != \"Fuera de rango\":\n",
    "        try:\n",
    "            tweets = api.GetUserTimeline(screen_name=user_name, exclude_replies=True, count=1)\n",
    "            if len(tweets) > 0:\n",
    "                return tweets[0].text\n",
    "            else:\n",
    "                return \"Usuario Abandonado\"\n",
    "        except TwitterError:\n",
    "            return \"No autorizado\"\n",
    "    else:\n",
    "        return \"No encontrado\"\n",
    "        "
   ]
  },
  {
   "cell_type": "code",
   "execution_count": 62,
   "metadata": {},
   "outputs": [],
   "source": [
    "for scrape in list_of_scrapes:\n",
    "    congress_base[f\"First tw/rt {scrape}\"] = congress_base[f\"Usuario de Twitter {scrape}\"].apply(lambda row: getting_tweets(row))"
   ]
  },
  {
   "cell_type": "code",
   "execution_count": 86,
   "metadata": {},
   "outputs": [],
   "source": [
    "congress_base.to_excel(\"congress_base.xlsx\")"
   ]
  },
  {
   "cell_type": "markdown",
   "metadata": {},
   "source": [
    "# Score for detecting Congressmen"
   ]
  },
  {
   "cell_type": "code",
   "execution_count": 65,
   "metadata": {},
   "outputs": [],
   "source": [
    "congress_words = [\"congreso\", \"congresista\", \"politica\", \"política\", \"soci\", \"sociedad\", \"social\", \n",
    "                  \"bancada\", \"Perú\", \"republica\", \"república\", \"democracia\", \"propuesta\", \"Vizcarra\",\n",
    "                  \"Fuerza\", \"Popular\", \"Acción\", \"Popular\", \"Morado\", \"Partido\", \"Organización\",\n",
    "                  \"Comisión\", \"FREPAP\", \"Keiko\", \"Fujimori\", \"Vacancia\"]\n",
    "\n",
    "ngrams_congress = []\n",
    "for word in congress_words:\n",
    "    ngrams = nltk.ngrams(word, 4)\n",
    "    for gram in ngrams:\n",
    "        ngrams_congress.append(''.join(gram))"
   ]
  },
  {
   "cell_type": "code",
   "execution_count": 66,
   "metadata": {},
   "outputs": [],
   "source": [
    "def congresscore(description, ngrams):\n",
    "    score = 0\n",
    "    for gram in ngrams:\n",
    "        if gram in description:\n",
    "            score +=1\n",
    "    return score/len(ngrams_congress)"
   ]
  },
  {
   "cell_type": "code",
   "execution_count": 87,
   "metadata": {
    "scrolled": true
   },
   "outputs": [],
   "source": [
    "for scrape in list_of_scrapes:\n",
    "    congress_base[f\"score {scrape}\"] = congress_base[f\"description {scrape}\"].apply(lambda row: congresscore(row, ngrams_congress)) + \\\n",
    "                                       congress_base[f\"First tw/rt {scrape}\"].apply(lambda row: congresscore(row, ngrams_congress))"
   ]
  },
  {
   "cell_type": "code",
   "execution_count": 90,
   "metadata": {
    "scrolled": false
   },
   "outputs": [
    {
     "data": {
      "text/html": [
       "<div>\n",
       "<style scoped>\n",
       "    .dataframe tbody tr th:only-of-type {\n",
       "        vertical-align: middle;\n",
       "    }\n",
       "\n",
       "    .dataframe tbody tr th {\n",
       "        vertical-align: top;\n",
       "    }\n",
       "\n",
       "    .dataframe thead th {\n",
       "        text-align: right;\n",
       "    }\n",
       "</style>\n",
       "<table border=\"1\" class=\"dataframe\">\n",
       "  <thead>\n",
       "    <tr style=\"text-align: right;\">\n",
       "      <th></th>\n",
       "      <th>APELLIDOS Y NOMBRES</th>\n",
       "      <th>GRUPO PARLAMENTARIO</th>\n",
       "      <th>E-MAIL</th>\n",
       "      <th>Nombres</th>\n",
       "      <th>Primer Nombre</th>\n",
       "      <th>Segundo Nombre</th>\n",
       "      <th>Apellidos</th>\n",
       "      <th>Primer Apellido</th>\n",
       "      <th>Nombre Completo</th>\n",
       "      <th>Nombre Completo (F)</th>\n",
       "      <th>...</th>\n",
       "      <th>First tw/rt (1st FirstN FullL) 2</th>\n",
       "      <th>First tw/rt (2nd FirstN FirstL) 2</th>\n",
       "      <th>score (1st FullN)</th>\n",
       "      <th>score (1st FirstN)</th>\n",
       "      <th>score (1st FirstN FullL)</th>\n",
       "      <th>score (2nd FirstN FirstL)</th>\n",
       "      <th>score (1st FullN) 2</th>\n",
       "      <th>score (1st FirstN) 2</th>\n",
       "      <th>score (1st FirstN FullL) 2</th>\n",
       "      <th>score (2nd FirstN FirstL) 2</th>\n",
       "    </tr>\n",
       "  </thead>\n",
       "  <tbody>\n",
       "    <tr>\n",
       "      <th>0</th>\n",
       "      <td>Acate Coronel Eduardo Geovanni</td>\n",
       "      <td>ALIANZA PARA EL PROGRESO</td>\n",
       "      <td>eacate@congreso.gob.pe</td>\n",
       "      <td>Geovanni Eduardo</td>\n",
       "      <td>Geovanni</td>\n",
       "      <td>Eduardo</td>\n",
       "      <td>Acate Coronel</td>\n",
       "      <td>Acate</td>\n",
       "      <td>Geovanni Eduardo Acate Coronel</td>\n",
       "      <td>Geovanni Acate</td>\n",
       "      <td>...</td>\n",
       "      <td>No encontrado</td>\n",
       "      <td>No encontrado</td>\n",
       "      <td>0.008547</td>\n",
       "      <td>0.059829</td>\n",
       "      <td>0.008547</td>\n",
       "      <td>0.008547</td>\n",
       "      <td>0.008547</td>\n",
       "      <td>0.068376</td>\n",
       "      <td>0.008547</td>\n",
       "      <td>0.008547</td>\n",
       "    </tr>\n",
       "    <tr>\n",
       "      <th>1</th>\n",
       "      <td>Acuña Peralta Humberto</td>\n",
       "      <td>ALIANZA PARA EL PROGRESO</td>\n",
       "      <td>hacuna@congreso.gob.pe</td>\n",
       "      <td>Humberto</td>\n",
       "      <td>Humberto</td>\n",
       "      <td>No encontrado</td>\n",
       "      <td>Acuña Peralta</td>\n",
       "      <td>Acuña</td>\n",
       "      <td>Humberto Acuña Peralta</td>\n",
       "      <td>Humberto Acuña</td>\n",
       "      <td>...</td>\n",
       "      <td>RT @LuisValdezF: Con Cesar Acuña y nuestro equ...</td>\n",
       "      <td>No encontrado</td>\n",
       "      <td>0.273504</td>\n",
       "      <td>0.273504</td>\n",
       "      <td>0.273504</td>\n",
       "      <td>0.008547</td>\n",
       "      <td>0.153846</td>\n",
       "      <td>0.145299</td>\n",
       "      <td>0.153846</td>\n",
       "      <td>0.008547</td>\n",
       "    </tr>\n",
       "    <tr>\n",
       "      <th>2</th>\n",
       "      <td>Aguilar Zamora Manuel</td>\n",
       "      <td>ACCION POPULAR</td>\n",
       "      <td>maguilarz@congreso.gob.pe</td>\n",
       "      <td>Manuel</td>\n",
       "      <td>Manuel</td>\n",
       "      <td>No encontrado</td>\n",
       "      <td>Aguilar Zamora</td>\n",
       "      <td>Aguilar</td>\n",
       "      <td>Manuel Aguilar Zamora</td>\n",
       "      <td>Manuel Aguilar</td>\n",
       "      <td>...</td>\n",
       "      <td>RT @diariocorreo: Cristiano Ronaldo no perdona...</td>\n",
       "      <td>No encontrado</td>\n",
       "      <td>0.000000</td>\n",
       "      <td>0.008547</td>\n",
       "      <td>0.000000</td>\n",
       "      <td>0.008547</td>\n",
       "      <td>0.000000</td>\n",
       "      <td>0.000000</td>\n",
       "      <td>0.000000</td>\n",
       "      <td>0.008547</td>\n",
       "    </tr>\n",
       "    <tr>\n",
       "      <th>3</th>\n",
       "      <td>Alarcón Tejada Edgar Arnold</td>\n",
       "      <td>UNIÓN POR EL PERÚ</td>\n",
       "      <td>ealarcont@congreso.gob.pe</td>\n",
       "      <td>Arnold Edgar</td>\n",
       "      <td>Arnold</td>\n",
       "      <td>Edgar</td>\n",
       "      <td>Alarcón Tejada</td>\n",
       "      <td>Alarcón</td>\n",
       "      <td>Arnold Edgar Alarcón Tejada</td>\n",
       "      <td>Arnold Alarcón</td>\n",
       "      <td>...</td>\n",
       "      <td>No encontrado</td>\n",
       "      <td>RT @AliMamani10: A raíz de todo lo acontecido,...</td>\n",
       "      <td>0.008547</td>\n",
       "      <td>0.000000</td>\n",
       "      <td>0.008547</td>\n",
       "      <td>0.025641</td>\n",
       "      <td>0.008547</td>\n",
       "      <td>0.000000</td>\n",
       "      <td>0.008547</td>\n",
       "      <td>0.034188</td>\n",
       "    </tr>\n",
       "    <tr>\n",
       "      <th>4</th>\n",
       "      <td>Alencastre Miranda Hirma Norma</td>\n",
       "      <td>SOMOS PERÚ</td>\n",
       "      <td>halencastre@congreso.gob.pe</td>\n",
       "      <td>Norma Hirma</td>\n",
       "      <td>Norma</td>\n",
       "      <td>Hirma</td>\n",
       "      <td>Alencastre Miranda</td>\n",
       "      <td>Alencastre</td>\n",
       "      <td>Norma Hirma Alencastre Miranda</td>\n",
       "      <td>Norma Alencastre</td>\n",
       "      <td>...</td>\n",
       "      <td>No encontrado</td>\n",
       "      <td>No encontrado</td>\n",
       "      <td>0.008547</td>\n",
       "      <td>0.213675</td>\n",
       "      <td>0.008547</td>\n",
       "      <td>0.008547</td>\n",
       "      <td>0.008547</td>\n",
       "      <td>0.051282</td>\n",
       "      <td>0.008547</td>\n",
       "      <td>0.008547</td>\n",
       "    </tr>\n",
       "  </tbody>\n",
       "</table>\n",
       "<p>5 rows × 45 columns</p>\n",
       "</div>"
      ],
      "text/plain": [
       "              APELLIDOS Y NOMBRES       GRUPO PARLAMENTARIO  \\\n",
       "0  Acate Coronel Eduardo Geovanni  ALIANZA PARA EL PROGRESO   \n",
       "1          Acuña Peralta Humberto  ALIANZA PARA EL PROGRESO   \n",
       "2           Aguilar Zamora Manuel            ACCION POPULAR   \n",
       "3     Alarcón Tejada Edgar Arnold         UNIÓN POR EL PERÚ   \n",
       "4  Alencastre Miranda Hirma Norma                SOMOS PERÚ   \n",
       "\n",
       "                        E-MAIL           Nombres Primer Nombre Segundo Nombre  \\\n",
       "0       eacate@congreso.gob.pe  Geovanni Eduardo      Geovanni        Eduardo   \n",
       "1       hacuna@congreso.gob.pe          Humberto      Humberto  No encontrado   \n",
       "2    maguilarz@congreso.gob.pe            Manuel        Manuel  No encontrado   \n",
       "3    ealarcont@congreso.gob.pe      Arnold Edgar        Arnold          Edgar   \n",
       "4  halencastre@congreso.gob.pe       Norma Hirma         Norma          Hirma   \n",
       "\n",
       "            Apellidos Primer Apellido                 Nombre Completo  \\\n",
       "0       Acate Coronel           Acate  Geovanni Eduardo Acate Coronel   \n",
       "1       Acuña Peralta           Acuña          Humberto Acuña Peralta   \n",
       "2      Aguilar Zamora         Aguilar           Manuel Aguilar Zamora   \n",
       "3      Alarcón Tejada         Alarcón     Arnold Edgar Alarcón Tejada   \n",
       "4  Alencastre Miranda      Alencastre  Norma Hirma Alencastre Miranda   \n",
       "\n",
       "  Nombre Completo (F)  ...                   First tw/rt (1st FirstN FullL) 2  \\\n",
       "0      Geovanni Acate  ...                                      No encontrado   \n",
       "1      Humberto Acuña  ...  RT @LuisValdezF: Con Cesar Acuña y nuestro equ...   \n",
       "2      Manuel Aguilar  ...  RT @diariocorreo: Cristiano Ronaldo no perdona...   \n",
       "3      Arnold Alarcón  ...                                      No encontrado   \n",
       "4    Norma Alencastre  ...                                      No encontrado   \n",
       "\n",
       "                   First tw/rt (2nd FirstN FirstL) 2 score (1st FullN)  \\\n",
       "0                                      No encontrado          0.008547   \n",
       "1                                      No encontrado          0.273504   \n",
       "2                                      No encontrado          0.000000   \n",
       "3  RT @AliMamani10: A raíz de todo lo acontecido,...          0.008547   \n",
       "4                                      No encontrado          0.008547   \n",
       "\n",
       "  score (1st FirstN) score (1st FirstN FullL) score (2nd FirstN FirstL)  \\\n",
       "0           0.059829                 0.008547                  0.008547   \n",
       "1           0.273504                 0.273504                  0.008547   \n",
       "2           0.008547                 0.000000                  0.008547   \n",
       "3           0.000000                 0.008547                  0.025641   \n",
       "4           0.213675                 0.008547                  0.008547   \n",
       "\n",
       "  score (1st FullN) 2 score (1st FirstN) 2 score (1st FirstN FullL) 2  \\\n",
       "0            0.008547             0.068376                   0.008547   \n",
       "1            0.153846             0.145299                   0.153846   \n",
       "2            0.000000             0.000000                   0.000000   \n",
       "3            0.008547             0.000000                   0.008547   \n",
       "4            0.008547             0.051282                   0.008547   \n",
       "\n",
       "  score (2nd FirstN FirstL) 2  \n",
       "0                    0.008547  \n",
       "1                    0.008547  \n",
       "2                    0.008547  \n",
       "3                    0.034188  \n",
       "4                    0.008547  \n",
       "\n",
       "[5 rows x 45 columns]"
      ]
     },
     "execution_count": 90,
     "metadata": {},
     "output_type": "execute_result"
    }
   ],
   "source": [
    "congress_base.head()"
   ]
  },
  {
   "cell_type": "markdown",
   "metadata": {},
   "source": [
    "# Getting the user with the highest score among the others"
   ]
  },
  {
   "cell_type": "code",
   "execution_count": 101,
   "metadata": {},
   "outputs": [],
   "source": [
    "def getting_best_match(row):\n",
    "    best_match = \"No match\"\n",
    "    benchmark = 0\n",
    "    \n",
    "    for scrape in list_of_scrapes:\n",
    "        #print(row[f\"score {scrape}\"])\n",
    "        if row[f\"score {scrape}\"]>benchmark and row[f\"Usuario de Twitter {scrape}\"] != \"Fuera de rango\" and row[f\"Usuario de Twitter {scrape}\"] != \"No encontrado\":\n",
    "            best_match = row[f\"Usuario de Twitter {scrape}\"]\n",
    "            benchmark = row[f\"score {scrape}\"]\n",
    "    return best_match"
   ]
  },
  {
   "cell_type": "code",
   "execution_count": 102,
   "metadata": {},
   "outputs": [],
   "source": [
    "congress_base[\"Best match\"] = congress_base.apply(lambda row: getting_best_match(row), axis=1)"
   ]
  },
  {
   "cell_type": "code",
   "execution_count": 97,
   "metadata": {
    "scrolled": true
   },
   "outputs": [
    {
     "data": {
      "text/plain": [
       "APELLIDOS Y NOMBRES                                           Costa Santolalla Gino Francisco\n",
       "GRUPO PARLAMENTARIO                                                            PARTIDO MORADO\n",
       "E-MAIL                                                                 gcosta@congreso.gob.pe\n",
       "Nombres                                                                        Francisco Gino\n",
       "Primer Nombre                                                                       Francisco\n",
       "Segundo Nombre                                                                           Gino\n",
       "Apellidos                                                                    Costa Santolalla\n",
       "Primer Apellido                                                                         Costa\n",
       "Nombre Completo                                               Francisco Gino Costa Santolalla\n",
       "Nombre Completo (F)                                                           Francisco Costa\n",
       "Nombre Completo (FFL)                                              Francisco Costa Santolalla\n",
       "Nombre Completo (2F1L)                                             Francisco Costa Santolalla\n",
       "Usuario de Twitter (1st FullN)                                                  No encontrado\n",
       "Usuario de Twitter (1st FirstN)                                                costafrancisco\n",
       "Usuario de Twitter (1st FirstN FullL)                                           No encontrado\n",
       "Nombre Completo (SFFL)                                                             Gino Costa\n",
       "Usuario de Twitter (2nd FirstN FirstL)                                              CostaGino\n",
       "Usuario de Twitter (1st FullN) 2                                                No encontrado\n",
       "Usuario de Twitter (1st FirstN) 2                                             cityofelcerrito\n",
       "Usuario de Twitter (1st FirstN FullL) 2                                         No encontrado\n",
       "Usuario de Twitter (2nd FirstN FirstL) 2                                          gino__costa\n",
       "description (1st FullN)                                                    Usuario Abandonado\n",
       "description (1st FirstN)                    Brazilian-born Fashion Designer, who has been ...\n",
       "description (1st FirstN FullL)                                             Usuario Abandonado\n",
       "description (2nd FirstN FirstL)                                                              \n",
       "description (1st FullN) 2                                                  Usuario Abandonado\n",
       "description (1st FirstN) 2                  Brazilian-born Fashion Designer, who has been ...\n",
       "description (1st FirstN FullL) 2                                           Usuario Abandonado\n",
       "description (2nd FirstN FirstL) 2                                                            \n",
       "First tw/rt (1st FullN)                                                         No encontrado\n",
       "First tw/rt (1st FirstN)                                                                   /;\n",
       "First tw/rt (1st FirstN FullL)                                                  No encontrado\n",
       "First tw/rt (2nd FirstN FirstL)             RT @larepublica_pe: #SigridPE con @sigridbazan...\n",
       "First tw/rt (1st FullN) 2                                                       No encontrado\n",
       "First tw/rt (1st FirstN) 2                  RT @CASOSvote: Join over 1 million CA voters w...\n",
       "First tw/rt (1st FirstN FullL) 2                                                No encontrado\n",
       "First tw/rt (2nd FirstN FirstL) 2           RT @DonFranciscoTV: ¡Gracias Chilenos! Por est...\n",
       "score (1st FullN)                                                                  0.00854701\n",
       "score (1st FirstN)                                                                          0\n",
       "score (1st FirstN FullL)                                                           0.00854701\n",
       "score (2nd FirstN FirstL)                                                            0.230769\n",
       "score (1st FullN) 2                                                                0.00854701\n",
       "score (1st FirstN) 2                                                                        0\n",
       "score (1st FirstN FullL) 2                                                         0.00854701\n",
       "score (2nd FirstN FirstL) 2                                                          0.025641\n",
       "Best match                                                                          CostaGino\n",
       "Name: 38, dtype: object"
      ]
     },
     "execution_count": 97,
     "metadata": {},
     "output_type": "execute_result"
    }
   ],
   "source": [
    "congress_base.iloc[38]"
   ]
  },
  {
   "cell_type": "markdown",
   "metadata": {},
   "source": [
    "# Generating output database"
   ]
  },
  {
   "cell_type": "code",
   "execution_count": 103,
   "metadata": {},
   "outputs": [],
   "source": [
    "output_users = congress_base[[\"Nombre Completo\", \"GRUPO PARLAMENTARIO\", \"Best match\"]]"
   ]
  },
  {
   "cell_type": "code",
   "execution_count": 104,
   "metadata": {},
   "outputs": [],
   "source": [
    "output_users.to_excel(\"congress twitter best matches.xlsx\")"
   ]
  }
 ],
 "metadata": {
  "kernelspec": {
   "display_name": "Python 3",
   "language": "python",
   "name": "python3"
  },
  "language_info": {
   "codemirror_mode": {
    "name": "ipython",
    "version": 3
   },
   "file_extension": ".py",
   "mimetype": "text/x-python",
   "name": "python",
   "nbconvert_exporter": "python",
   "pygments_lexer": "ipython3",
   "version": "3.6.5"
  }
 },
 "nbformat": 4,
 "nbformat_minor": 2
}
